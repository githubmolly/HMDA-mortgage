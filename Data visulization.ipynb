{
 "cells": [
  {
   "cell_type": "code",
   "execution_count": null,
   "metadata": {
    "collapsed": true
   },
   "outputs": [],
   "source": [
    "# distribution of conforming limit\n",
    "df_hmda1.hist(column='Conforming_Limit_000',by='Loan_Type_Description',bins=50)\n",
    "plt.xlabel('Single Unit Conforming Loan limit for the given county, in $000s')\n",
    "\n",
    "# the results matches with the regulation of limit of that area\n",
    "# Reference: https://www.fhfa.gov/DataTools/Downloads/Pages/Conforming-Loan-Limits.aspx"
   ]
  },
  {
   "cell_type": "code",
   "execution_count": null,
   "metadata": {
    "collapsed": true
   },
   "outputs": [],
   "source": [
    "########################################\n",
    "# distribution of Loan_Amount_000, \n",
    "# Applicant_Income_000\n",
    "########################################\n",
    "# distribution of loan amount by loan type\n",
    "\n",
    "# loan type\n",
    "df_hmda1['Loan_Type_Description'].value_counts()\n",
    "\n",
    "# plot\n",
    "fig, ax = plt.subplots(nrows=5, ncols=1, figsize=(7,7))\n",
    "\n",
    "ax[0].hist(df_hmda1['Loan_Amount_000'], bins=50)\n",
    "ax[0].set_title('Distribution of Loan Amount in $000s, Overall')\n",
    "ax[0].set_xlim(left=0,right=1200)\n",
    "\n",
    "ax[1].hist(df_hmda1['Loan_Amount_000'][df_hmda1['Loan_Type_Description']=='Conventional'], bins=50)\n",
    "ax[1].set_title('Conventional')\n",
    "ax[1].set_xlim(left=0,right=1200)\n",
    "\n",
    "ax[2].hist(df_hmda1['Loan_Amount_000'][df_hmda1['Loan_Type_Description']=='VA guaranteed'], bins=50)\n",
    "ax[2].set_title('VA guaranteed')\n",
    "ax[2].set_xlim(left=0,right=1200)\n",
    "\n",
    "ax[3].hist(df_hmda1['Loan_Amount_000'][df_hmda1['Loan_Type_Description']=='FHA insured'], bins=50)\n",
    "ax[3].set_title('FHA insured')\n",
    "ax[3].set_xlim(left=0,right=1200)\n",
    "\n",
    "ax[4].hist(df_hmda1['Loan_Amount_000'][df_hmda1['Loan_Type_Description']=='FSA/RHS guaranteed'], bins=50)\n",
    "ax[4].set_title('FSA/RHS guaranteed')\n",
    "ax[4].set_xlim(left=0,right=1200)\n",
    "\n",
    "fig.tight_layout()\n",
    "plt.show()"
   ]
  },
  {
   "cell_type": "code",
   "execution_count": null,
   "metadata": {
    "collapsed": true
   },
   "outputs": [],
   "source": [
    "# distribution of loan amount\n",
    "df_hmda1['Loan_Amount_000'].plot(kind='hist',bins=50,\n",
    "                                 title='Distribution of Loan Amount')\n",
    "plt.xlabel('Amount of the loan, in $000s')"
   ]
  },
  {
   "cell_type": "code",
   "execution_count": null,
   "metadata": {
    "collapsed": true
   },
   "outputs": [],
   "source": [
    "# distribution of applicant income\n",
    "df_hmda1['Applicant_Income_000'][df_hmda1['Applicant_Income_000'].isnull()==False].quantile(q=[0,0.1,0.25,0.5,0.75,0.9,0.99,1])"
   ]
  },
  {
   "cell_type": "code",
   "execution_count": null,
   "metadata": {
    "collapsed": true
   },
   "outputs": [],
   "source": [
    "# distribution of applicant income\n",
    "df_hmda1['Applicant_Income_000'].plot(kind='hist',bins=50,title='Distribution of applicant income')\n",
    "plt.xlabel('Applicant Income, in $000s')"
   ]
  },
  {
   "cell_type": "code",
   "execution_count": null,
   "metadata": {
    "collapsed": true
   },
   "outputs": [],
   "source": [
    "# plot\n",
    "fig, ax = plt.subplots(nrows=4, ncols=1, figsize=(7,7))\n",
    "\n",
    "ax[0].hist(df_hmda1['Applicant_Income_000'][df_hmda1['Loan_Type_Description']=='Conventional']\n",
    "            [df_hmda1['Applicant_Income_000'].isnull()==False],\n",
    "            bins=50)\n",
    "ax[0].set_title('Conventional-Applicant Income in $000s')\n",
    "\n",
    "\n",
    "ax[1].hist(df_hmda1['Applicant_Income_000'][df_hmda1['Loan_Type_Description']=='VA guaranteed']\n",
    "           [df_hmda1['Applicant_Income_000'].isnull()==False], \n",
    "           bins=50)\n",
    "ax[1].set_title('VA guaranteed-Applicant Income in $000s')\n",
    "\n",
    "ax[2].hist(df_hmda1['Applicant_Income_000'][df_hmda1['Loan_Type_Description']=='FHA insured']\n",
    "           [df_hmda1['Applicant_Income_000'].isnull()==False], \n",
    "           bins=50)\n",
    "ax[2].set_title('FHA insured-Applicant Income in $000s')\n",
    "\n",
    "ax[3].hist(df_hmda1['Applicant_Income_000'][df_hmda1['Loan_Type_Description']=='FSA/RHS guaranteed']\n",
    "           [df_hmda1['Applicant_Income_000'].isnull()==False], \n",
    "           bins=50)\n",
    "ax[3].set_title('FSA/RHS guaranteed-Applicant Income in $000s')\n",
    "\n",
    "\n",
    "fig.tight_layout()\n",
    "plt.show()\n"
   ]
  },
  {
   "cell_type": "code",
   "execution_count": null,
   "metadata": {
    "collapsed": true
   },
   "outputs": [],
   "source": [
    "# check the loan to income rate\n",
    "# according to the mortgage requirement, if DTI is too high, it may not be reasonable values.\n",
    "df_hmda1['Loan_to_income'] = df_hmda1['Loan_Amount_000']/df_hmda1['Applicant_Income_000']"
   ]
  },
  {
   "cell_type": "code",
   "execution_count": null,
   "metadata": {
    "collapsed": true
   },
   "outputs": [],
   "source": [
    "df_hmda1['Loan_to_income'].median()"
   ]
  },
  {
   "cell_type": "code",
   "execution_count": null,
   "metadata": {
    "collapsed": true
   },
   "outputs": [],
   "source": [
    "df_hmda1['Loan_to_income'][df_hmda1['Loan_to_income'].isnull()==False].quantile(q=[0,0.1,0.25,0.5,0.75,0.9,0.99,1])\n",
    "\n",
    "# those applicant with loan 10 times over income does not make much sense and might be value with error\n",
    "# exclude those rows"
   ]
  },
  {
   "cell_type": "code",
   "execution_count": null,
   "metadata": {
    "collapsed": true
   },
   "outputs": [],
   "source": [
    "df_hmda1.drop(df_hmda1[df_hmda1['Loan_to_income']>=10].index, inplace=True, axis=0)"
   ]
  },
  {
   "cell_type": "code",
   "execution_count": null,
   "metadata": {
    "collapsed": true
   },
   "outputs": [],
   "source": [
    "# check the distribution of loan to income\n",
    "fig, ax = plt.subplots(nrows=4, ncols=1, figsize=(7,7))\n",
    "\n",
    "ax[0].hist(df_hmda1['Loan_to_income'][df_hmda1['Loan_Type_Description']=='Conventional']\n",
    "            [df_hmda1['Loan_to_income'].isnull()==False],\n",
    "            bins=50)\n",
    "ax[0].set_title('Conventional-loan over income ratio')\n",
    "\n",
    "\n",
    "ax[1].hist(df_hmda1['Loan_to_income'][df_hmda1['Loan_Type_Description']=='VA guaranteed']\n",
    "           [df_hmda1['Loan_to_income'].isnull()==False], \n",
    "           bins=50)\n",
    "ax[1].set_title('VA guaranteed-loan over income ratio')\n",
    "\n",
    "ax[2].hist(df_hmda1['Loan_to_income'][df_hmda1['Loan_Type_Description']=='FHA insured']\n",
    "           [df_hmda1['Loan_to_income'].isnull()==False], \n",
    "           bins=50)\n",
    "ax[2].set_title('FHA insured-loan over income ratio')\n",
    "\n",
    "ax[3].hist(df_hmda1['Loan_to_income'][df_hmda1['Loan_Type_Description']=='FSA/RHS guaranteed']\n",
    "           [df_hmda1['Loan_to_income'].isnull()==False], \n",
    "           bins=50)\n",
    "ax[3].set_title('FSA/RHS guaranteed-loan over income ratio')\n",
    "\n",
    "\n",
    "fig.tight_layout()\n",
    "plt.show()"
   ]
  },
  {
   "cell_type": "code",
   "execution_count": null,
   "metadata": {
    "collapsed": true
   },
   "outputs": [],
   "source": [
    "###############################################\n",
    "# Check Respondent_Name_TS\n",
    "##############################################\n",
    "# count to see whether 'As_of_Year'+'Agency_Code'+'Respondent_ID' \n",
    "# are one to one match with 'Respondent_Name_TS'\n",
    "\n",
    "# Whether there are multiple Respondent_Name_TS matched to the same 'As_of_Year'+'Agency_Code'+'Respondent_ID'\n",
    "df_sr = df_hmda1.groupby(by=['As_of_Year','Agency_Code','Respondent_ID'])['Respondent_Name_TS'].nunique()\n",
    "# make the series a data frame\n",
    "df_sr = pd.DataFrame(df_sr)\n",
    "df_sr.columns = ['Count']\n",
    "df_sr.reset_index(inplace=True)\n",
    "# Count all the 'As_of_Year'+'Agency_Code'+'Respondent_ID' with multiple'Respondent_Name_TS'\n",
    "# None exists\n",
    "df_sr[df_sr['Count'] != 1].count()"
   ]
  },
  {
   "cell_type": "code",
   "execution_count": null,
   "metadata": {
    "collapsed": true
   },
   "outputs": [],
   "source": [
    "# Whether a Respondent_Name_TS has only one unique 'As_of_Year'+'Agency_Code'+'Respondent_ID'\n",
    "df_hmda1['instituteID'] = df_hmda1['As_of_Year'].astype(str) + df_hmda1['Agency_Code'].astype(str) + df_hmda1['Respondent_ID'].astype(str)\n",
    "df_sr = df_hmda1.groupby(by=['Respondent_Name_TS'])['instituteID'].nunique()\n",
    "\n",
    "# make the series a data frame\n",
    "df_sr = pd.DataFrame(df_sr)\n",
    "df_sr.columns = ['Count']\n",
    "df_sr.reset_index(inplace=True)\n",
    "# Count all the 'As_of_Year'+'Agency_Code'+'Respondent_ID' with multiple'Respondent_Name_TS'\n",
    "# None exists\n",
    "df_sr[df_sr['Count'] > 3]\n",
    "\n",
    "# There are banks that have several 'As_of_Year'+'Agency_Code'+'Respondent_ID'\n",
    "# Checked the ffiec website   https://www.ffiec.gov/HmdaAdWebReport/DisWelcome.aspx\n",
    "# those respondent IDs are of the same bank from different branches, \n",
    "# will assume them as the same insitutes for further analysas"
   ]
  },
  {
   "cell_type": "code",
   "execution_count": null,
   "metadata": {
    "collapsed": true
   },
   "outputs": [],
   "source": [
    "##############################################\n",
    "# Check to see value of the string variables\n",
    "##############################################"
   ]
  },
  {
   "cell_type": "code",
   "execution_count": null,
   "metadata": {
    "collapsed": true
   },
   "outputs": [],
   "source": [
    "df_hmda1['State'].value_counts(normalize=True,sort=True, ascending=False, bins=None, dropna=True)"
   ]
  },
  {
   "cell_type": "code",
   "execution_count": null,
   "metadata": {
    "collapsed": true
   },
   "outputs": [],
   "source": [
    "df_hmda1['Loan_Purpose_Description'].value_counts(normalize=True,sort=True, ascending=False, bins=None, dropna=True)"
   ]
  },
  {
   "cell_type": "code",
   "execution_count": null,
   "metadata": {
    "collapsed": true
   },
   "outputs": [],
   "source": [
    "df_hmda1['Agency_Code_Description'].value_counts(normalize=True,sort=True, ascending=False, bins=None, dropna=True)"
   ]
  },
  {
   "cell_type": "code",
   "execution_count": null,
   "metadata": {
    "collapsed": true
   },
   "outputs": [],
   "source": [
    "df_hmda1['Lien_Status_Description'].value_counts(normalize=True,sort=True, ascending=False, bins=None, dropna=True)"
   ]
  },
  {
   "cell_type": "code",
   "execution_count": null,
   "metadata": {
    "collapsed": true
   },
   "outputs": [],
   "source": [
    "df_hmda1['Loan_Type_Description'].value_counts(normalize=True,sort=True, ascending=False, bins=None, dropna=True)"
   ]
  }
 ],
 "metadata": {
  "kernelspec": {
   "display_name": "Python [conda root]",
   "language": "python",
   "name": "conda-root-py"
  },
  "language_info": {
   "codemirror_mode": {
    "name": "ipython",
    "version": 2
   },
   "file_extension": ".py",
   "mimetype": "text/x-python",
   "name": "python",
   "nbconvert_exporter": "python",
   "pygments_lexer": "ipython2",
   "version": "2.7.12"
  }
 },
 "nbformat": 4,
 "nbformat_minor": 2
}
