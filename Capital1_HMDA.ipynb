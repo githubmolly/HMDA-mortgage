{
 "cells": [
  {
   "cell_type": "code",
   "execution_count": 1,
   "metadata": {
    "collapsed": true
   },
   "outputs": [],
   "source": [
    "import numpy as np\n",
    "import pandas as pd\n",
    "import math"
   ]
  },
  {
   "cell_type": "code",
   "execution_count": 2,
   "metadata": {
    "collapsed": true
   },
   "outputs": [],
   "source": [
    "##############################################################\n",
    "# Data munging \n",
    "\n",
    "\n",
    "# hmda_init() – Read the data files and return a pointer or \n",
    "# object containing the expanded HMDA data\n",
    "##############################################################\n",
    "def hmda_init(loanfile=r\"E:\\JOB\\Job_Application_Materials\\Interview_by_company\\Capital One\\data-challenge-data-master\\data_copy\\2012_to_2014_loans_data.csv\",\n",
    "              institutionfile=r\"E:\\JOB\\Job_Application_Materials\\Interview_by_company\\Capital One\\data-challenge-data-master\\data_copy\\2012_to_2014_institutions_data.csv\"):\n",
    "    \n",
    "    \"\"\"\n",
    "    This function infiles data from .csv into pandas DataFrame\n",
    "    \n",
    "    Parameters\n",
    "    ----------\n",
    "    loanfile, string\n",
    "        the location path of the loans csv file\n",
    "        \n",
    "    institutionfile, string\n",
    "        the location path of the institution csv file\n",
    "        \n",
    "    \"\"\"\n",
    "    ##############################################################\n",
    "    # infile csv files\n",
    "    ##############################################################\n",
    "    \n",
    "    # read in loan csv file\n",
    "    loans = pd.read_csv(loanfile,\n",
    "                        header=0,\n",
    "                        low_memory=False)\n",
    "    \n",
    "    # fix up the format\n",
    "    \n",
    "    # a function make input list of columns to object format\n",
    "    def toObj(s,data):\n",
    "        \"\"\"\n",
    "        a function make input list of columns to object format\n",
    "\n",
    "        Parameters\n",
    "        ----------\n",
    "        s, list\n",
    "            list of column names\n",
    "\n",
    "        data, DataFrame\n",
    "            name of the dataset\n",
    "        \"\"\"\n",
    "        for col in s:\n",
    "            data[col] = data[col].astype(object)\n",
    "\n",
    "        \n",
    "    # a function make input list of columns to float format\n",
    "    def objToFloat(s,data):\n",
    "        \"\"\"\n",
    "        a function make input list of columns to float format.\n",
    "        It takes care of np.nan format. Since np.nan is float format,\n",
    "        the format for the numeric columns with np.nan value is float\n",
    "        instead of int\n",
    "\n",
    "        Parameters\n",
    "        ----------\n",
    "        s, list\n",
    "            list of column names\n",
    "\n",
    "        data, DataFrame\n",
    "            name of the dataset\n",
    "            \n",
    "        Returns\n",
    "        ----------\n",
    "        DataFrame\n",
    "        \"\"\"\n",
    "        for col in s:\n",
    "            # check the abnormal value\n",
    "            data[col].value_counts()\n",
    "\n",
    "            # change 'NA  ' into np.nan\n",
    "            data[col] = data[col].apply(\n",
    "                lambda x: np.nan if isinstance(x,str) and x.strip()=='NA' else x)\n",
    "\n",
    "            # str to float\n",
    "            data[col] = data[col].astype(float)\n",
    "            \n",
    "    # fix the object columns\n",
    "    colList = ['Agency_Code',\n",
    "               'Census_Tract_Number',\n",
    "               'County_Code',\n",
    "               'MSA_MD',\n",
    "               'Respondent_ID',\n",
    "               'Sequence_Number',\n",
    "               'State_Code',\n",
    "               'MSA_MD_Description',\n",
    "               'Loan_Purpose_Description',\n",
    "               'Agency_Code_Description',\n",
    "               'Lien_Status_Description',\n",
    "               'Loan_Type_Description',\n",
    "               'State',\n",
    "               'County_Name',\n",
    "               'Conventional_Status',\n",
    "               'Conforming_Status',\n",
    "               'Conventional_Conforming_Flag']\n",
    "    \n",
    "    # this function changes the list of the columns into object format\n",
    "    toObj(s=colList, data=loans)\n",
    "\n",
    "    # fix the numeric columns\n",
    "    colList = ['Applicant_Income_000', \n",
    "               'FFIEC_Median_Family_Income',\n",
    "               'Number_of_Owner_Occupied_Units',\n",
    "               'Tract_to_MSA_MD_Income_Pct']\n",
    "    # a function make input list of columns to float format, takes care of NA values.\n",
    "    objToFloat(s=colList, data=loans)\n",
    "\n",
    "    \n",
    "    # infile institution data\n",
    "    institution = pd.read_csv(institutionfile,\n",
    "                        header=0,\n",
    "                        low_memory=False)\n",
    "\n",
    "    # change integer to object\n",
    "    colList = ['Agency_Code']\n",
    "    \n",
    "    # this function changes the list of the columns into object format\n",
    "    toObj(s=colList, data=institution)\n",
    "\n",
    "    ##############################################################\n",
    "    # Join loan data and insititution data\n",
    "    ##############################################################\n",
    "    # join key: As_of_Year + Agency_code + Respondent_ID\n",
    "    df = loans.merge(right=institution, how='left',\n",
    "                     left_on=['As_of_Year','Agency_Code','Respondent_ID'],\n",
    "                     right_on=['As_of_Year','Agency_Code','Respondent_ID'])\n",
    "\n",
    "    ##############################################################\n",
    "    # Bucket loan amount\n",
    "    ##############################################################\n",
    "    df['Loan_Amount_Bucket'] = (df['Loan_Amount_000']/100+0.5).round() # round up\n",
    "    # if > 1000k, put them into same bucket\n",
    "    df.loc[df['Loan_Amount_Bucket'] > 10] = 11\n",
    "    \n",
    "    return df"
   ]
  },
  {
   "cell_type": "code",
   "execution_count": 3,
   "metadata": {
    "collapsed": false
   },
   "outputs": [
    {
     "name": "stdout",
     "output_type": "stream",
     "text": [
      "<class 'pandas.core.frame.DataFrame'>\n",
      "Int64Index: 1321158 entries, 0 to 1321157\n",
      "Data columns (total 34 columns):\n",
      "Agency_Code                       1321158 non-null object\n",
      "Applicant_Income_000              1203484 non-null float64\n",
      "As_of_Year                        1321158 non-null int64\n",
      "Census_Tract_Number               1321158 non-null object\n",
      "County_Code                       1321158 non-null object\n",
      "FFIEC_Median_Family_Income        1319511 non-null float64\n",
      "Loan_Amount_000                   1321158 non-null int64\n",
      "MSA_MD                            1321158 non-null object\n",
      "Number_of_Owner_Occupied_Units    1319321 non-null float64\n",
      "Respondent_ID                     1321158 non-null object\n",
      "Sequence_Number                   1321158 non-null object\n",
      "State_Code                        1321158 non-null object\n",
      "Tract_to_MSA_MD_Income_Pct        1319348 non-null float64\n",
      "MSA_MD_Description                1226239 non-null object\n",
      "Loan_Purpose_Description          1321158 non-null object\n",
      "Agency_Code_Description           1321158 non-null object\n",
      "Lien_Status_Description           1321158 non-null object\n",
      "Loan_Type_Description             1321158 non-null object\n",
      "State                             1321158 non-null object\n",
      "County_Name                       1320322 non-null object\n",
      "Conforming_Limit_000              1320322 non-null float64\n",
      "Conventional_Status               1321158 non-null object\n",
      "Conforming_Status                 1321158 non-null object\n",
      "Conventional_Conforming_Flag      1321158 non-null object\n",
      "Respondent_Name_TS                1321158 non-null object\n",
      "Respondent_City_TS                1321158 non-null object\n",
      "Respondent_State_TS               1321158 non-null object\n",
      "Respondent_ZIP_Code               1321158 non-null object\n",
      "Parent_Name_TS                    658451 non-null object\n",
      "Parent_City_TS                    658451 non-null object\n",
      "Parent_State_TS                   658593 non-null object\n",
      "Parent_ZIP_Code                   659015 non-null object\n",
      "Assets_000_Panel                  1321158 non-null int64\n",
      "Loan_Amount_Bucket                1321158 non-null float64\n",
      "dtypes: float64(6), int64(3), object(25)\n",
      "memory usage: 352.8+ MB\n"
     ]
    }
   ],
   "source": [
    "# infile csv into DataFrame\n",
    "df_hmda = hmda_init()\n",
    "df_hmda.head()\n",
    "df_hmda.info()"
   ]
  },
  {
   "cell_type": "code",
   "execution_count": null,
   "metadata": {
    "collapsed": true
   },
   "outputs": [],
   "source": [
    "##############################################################\n",
    "# Data munging \n",
    "\n",
    "\n",
    "#  hmda_to_json(data, states, conventional_conforming) – Export the \n",
    "# expanded data set to disk for the states filtered by product segment. Both \n",
    "# parameters are optional\n",
    "##############################################################\n",
    "def hmda_to_json(data, states=None, conventional_conforming=None, \n",
    "                 output = \"E:\\JOB\\Job_Application_Materials\\Interview_by_company\\Capital One\\data-challenge-data-master\\data_copy\\data_query.csv\"):\n",
    "    \"\"\"\n",
    "    This function export the expanded data set to disk for the states filtered by product segment.\n",
    "    \n",
    "    Parameters\n",
    "    ----------\n",
    "    data, DataFrame\n",
    "        name of the DataFrame\n",
    "        \n",
    "    states, list\n",
    "        list of states\n",
    "    \n",
    "    conventional_conforming, string\n",
    "        'Y' or 'N'\n",
    "    \n",
    "    output: filepath = \"C:/Users/Chen/Desktop/data-challenge-data-master/data-challenge-data-master/data_query.csv\"\n",
    "\n",
    "    Returns\n",
    "    ---------\n",
    "    dataset in csv format\n",
    "    \"\"\"\n",
    "    if states:\n",
    "        new_data = data[data['State'].apply(lambda x: x in states)]\n",
    "    else:\n",
    "        new_data = data\n",
    "        \n",
    "    if conventional_conforming:\n",
    "        new_data1 = new_data[new_data['Conventional_Conforming_Flag'] == conventional_conforming]\n",
    "        \n",
    "    new_data1.to_csv(output)"
   ]
  },
  {
   "cell_type": "code",
   "execution_count": 32,
   "metadata": {
    "collapsed": false
   },
   "outputs": [],
   "source": [
    "# Test the function\n",
    "# export the expanded data set to disk for the states filtered by product segment\n",
    "hmda_to_json(df_hmda,['VA','DC'],'Y')"
   ]
  },
  {
   "cell_type": "code",
   "execution_count": 4,
   "metadata": {
    "collapsed": false
   },
   "outputs": [],
   "source": [
    "##############################################################\n",
    "# Quality check \n",
    "\n",
    "# Data cleaning\n",
    "##############################################################\n",
    " \n",
    "import seaborn as sns\n",
    "import matplotlib.pyplot as plt\n",
    "%matplotlib inline"
   ]
  },
  {
   "cell_type": "code",
   "execution_count": 8,
   "metadata": {
    "collapsed": true
   },
   "outputs": [],
   "source": [
    "# drop duplicates\n",
    "df_hmda1 = df_hmda.drop_duplicates(keep='first')"
   ]
  },
  {
   "cell_type": "code",
   "execution_count": 9,
   "metadata": {
    "collapsed": false
   },
   "outputs": [
    {
     "name": "stdout",
     "output_type": "stream",
     "text": [
      "<class 'pandas.core.frame.DataFrame'>\n",
      "Int64Index: 1312989 entries, 0 to 1320857\n",
      "Data columns (total 34 columns):\n",
      "Agency_Code                       1312989 non-null object\n",
      "Applicant_Income_000              1195315 non-null float64\n",
      "As_of_Year                        1312989 non-null int64\n",
      "Census_Tract_Number               1312989 non-null object\n",
      "County_Code                       1312989 non-null object\n",
      "FFIEC_Median_Family_Income        1311342 non-null float64\n",
      "Loan_Amount_000                   1312989 non-null int64\n",
      "MSA_MD                            1312989 non-null object\n",
      "Number_of_Owner_Occupied_Units    1311152 non-null float64\n",
      "Respondent_ID                     1312989 non-null object\n",
      "Sequence_Number                   1312989 non-null object\n",
      "State_Code                        1312989 non-null object\n",
      "Tract_to_MSA_MD_Income_Pct        1311179 non-null float64\n",
      "MSA_MD_Description                1218070 non-null object\n",
      "Loan_Purpose_Description          1312989 non-null object\n",
      "Agency_Code_Description           1312989 non-null object\n",
      "Lien_Status_Description           1312989 non-null object\n",
      "Loan_Type_Description             1312989 non-null object\n",
      "State                             1312989 non-null object\n",
      "County_Name                       1312153 non-null object\n",
      "Conforming_Limit_000              1312153 non-null float64\n",
      "Conventional_Status               1312989 non-null object\n",
      "Conforming_Status                 1312989 non-null object\n",
      "Conventional_Conforming_Flag      1312989 non-null object\n",
      "Respondent_Name_TS                1312989 non-null object\n",
      "Respondent_City_TS                1312989 non-null object\n",
      "Respondent_State_TS               1312989 non-null object\n",
      "Respondent_ZIP_Code               1312989 non-null object\n",
      "Parent_Name_TS                    650282 non-null object\n",
      "Parent_City_TS                    650282 non-null object\n",
      "Parent_State_TS                   650424 non-null object\n",
      "Parent_ZIP_Code                   650846 non-null object\n",
      "Assets_000_Panel                  1312989 non-null int64\n",
      "Loan_Amount_Bucket                1312989 non-null float64\n",
      "dtypes: float64(6), int64(3), object(25)\n",
      "memory usage: 350.6+ MB\n"
     ]
    }
   ],
   "source": [
    "df_hmda1.info()"
   ]
  },
  {
   "cell_type": "code",
   "execution_count": 10,
   "metadata": {
    "collapsed": false,
    "scrolled": true
   },
   "outputs": [
    {
     "data": {
      "text/plain": [
       "Parent_City_TS                    50.473157\n",
       "Parent_Name_TS                    50.473157\n",
       "Parent_State_TS                   50.462342\n",
       "Parent_ZIP_Code                   50.430202\n",
       "Applicant_Income_000               8.962299\n",
       "MSA_MD_Description                 7.229230\n",
       "Number_of_Owner_Occupied_Units     0.139910\n",
       "Tract_to_MSA_MD_Income_Pct         0.137853\n",
       "FFIEC_Median_Family_Income         0.125439\n",
       "Conforming_Limit_000               0.063672\n",
       "County_Name                        0.063672\n",
       "County_Code                        0.000000\n",
       "Census_Tract_Number                0.000000\n",
       "Loan_Amount_000                    0.000000\n",
       "MSA_MD                             0.000000\n",
       "As_of_Year                         0.000000\n",
       "Respondent_ID                      0.000000\n",
       "Sequence_Number                    0.000000\n",
       "State_Code                         0.000000\n",
       "Loan_Amount_Bucket                 0.000000\n",
       "Lien_Status_Description            0.000000\n",
       "Loan_Purpose_Description           0.000000\n",
       "Agency_Code_Description            0.000000\n",
       "Assets_000_Panel                   0.000000\n",
       "Loan_Type_Description              0.000000\n",
       "State                              0.000000\n",
       "Conventional_Status                0.000000\n",
       "Conforming_Status                  0.000000\n",
       "Conventional_Conforming_Flag       0.000000\n",
       "Respondent_Name_TS                 0.000000\n",
       "Respondent_City_TS                 0.000000\n",
       "Respondent_State_TS                0.000000\n",
       "Respondent_ZIP_Code                0.000000\n",
       "Agency_Code                        0.000000\n",
       "dtype: float64"
      ]
     },
     "execution_count": 10,
     "metadata": {},
     "output_type": "execute_result"
    }
   ],
   "source": [
    "# Descriptive statistics of numeric variables\n",
    "\n",
    "# count NaN values of each variables\n",
    "sr = 100*df_hmda1.isnull().sum()/1312989 #total number of entries 1312989\n",
    "sr.sort_values(ascending=False)\n",
    "\n",
    "# 8.96% of missing values of applicant_income"
   ]
  },
  {
   "cell_type": "code",
   "execution_count": 11,
   "metadata": {
    "collapsed": false
   },
   "outputs": [
    {
     "name": "stderr",
     "output_type": "stream",
     "text": [
      "C:\\Users\\YG\\Anaconda2\\lib\\site-packages\\numpy\\lib\\function_base.py:3834: RuntimeWarning: Invalid value encountered in percentile\n",
      "  RuntimeWarning)\n"
     ]
    },
    {
     "data": {
      "text/html": [
       "<div>\n",
       "<table border=\"1\" class=\"dataframe\">\n",
       "  <thead>\n",
       "    <tr style=\"text-align: right;\">\n",
       "      <th></th>\n",
       "      <th>count</th>\n",
       "      <th>mean</th>\n",
       "      <th>std</th>\n",
       "      <th>min</th>\n",
       "      <th>1%</th>\n",
       "      <th>10%</th>\n",
       "      <th>25%</th>\n",
       "      <th>50%</th>\n",
       "      <th>75%</th>\n",
       "      <th>90%</th>\n",
       "      <th>99%</th>\n",
       "      <th>max</th>\n",
       "    </tr>\n",
       "  </thead>\n",
       "  <tbody>\n",
       "    <tr>\n",
       "      <th>Applicant_Income_000</th>\n",
       "      <td>1195315.0</td>\n",
       "      <td>1.149355e+02</td>\n",
       "      <td>1.032776e+02</td>\n",
       "      <td>1.00</td>\n",
       "      <td>NaN</td>\n",
       "      <td>NaN</td>\n",
       "      <td>NaN</td>\n",
       "      <td>NaN</td>\n",
       "      <td>NaN</td>\n",
       "      <td>NaN</td>\n",
       "      <td>NaN</td>\n",
       "      <td>9.999000e+03</td>\n",
       "    </tr>\n",
       "    <tr>\n",
       "      <th>As_of_Year</th>\n",
       "      <td>1312989.0</td>\n",
       "      <td>2.012795e+03</td>\n",
       "      <td>1.911166e+00</td>\n",
       "      <td>11.00</td>\n",
       "      <td>2012.0</td>\n",
       "      <td>2012.0</td>\n",
       "      <td>2012.0</td>\n",
       "      <td>2013.0</td>\n",
       "      <td>2013.0</td>\n",
       "      <td>2.014000e+03</td>\n",
       "      <td>2.014000e+03</td>\n",
       "      <td>2.014000e+03</td>\n",
       "    </tr>\n",
       "    <tr>\n",
       "      <th>FFIEC_Median_Family_Income</th>\n",
       "      <td>1311342.0</td>\n",
       "      <td>8.759453e+04</td>\n",
       "      <td>1.953677e+04</td>\n",
       "      <td>11.00</td>\n",
       "      <td>NaN</td>\n",
       "      <td>NaN</td>\n",
       "      <td>NaN</td>\n",
       "      <td>NaN</td>\n",
       "      <td>NaN</td>\n",
       "      <td>NaN</td>\n",
       "      <td>NaN</td>\n",
       "      <td>1.134000e+05</td>\n",
       "    </tr>\n",
       "    <tr>\n",
       "      <th>Loan_Amount_000</th>\n",
       "      <td>1312989.0</td>\n",
       "      <td>2.631222e+02</td>\n",
       "      <td>1.538755e+02</td>\n",
       "      <td>1.00</td>\n",
       "      <td>30.0</td>\n",
       "      <td>99.0</td>\n",
       "      <td>153.0</td>\n",
       "      <td>233.0</td>\n",
       "      <td>344.0</td>\n",
       "      <td>4.590000e+02</td>\n",
       "      <td>7.690000e+02</td>\n",
       "      <td>1.000000e+03</td>\n",
       "    </tr>\n",
       "    <tr>\n",
       "      <th>Number_of_Owner_Occupied_Units</th>\n",
       "      <td>1311152.0</td>\n",
       "      <td>1.383851e+03</td>\n",
       "      <td>5.657789e+02</td>\n",
       "      <td>4.00</td>\n",
       "      <td>NaN</td>\n",
       "      <td>NaN</td>\n",
       "      <td>NaN</td>\n",
       "      <td>NaN</td>\n",
       "      <td>NaN</td>\n",
       "      <td>NaN</td>\n",
       "      <td>NaN</td>\n",
       "      <td>3.632000e+03</td>\n",
       "    </tr>\n",
       "    <tr>\n",
       "      <th>Tract_to_MSA_MD_Income_Pct</th>\n",
       "      <td>1311179.0</td>\n",
       "      <td>1.167828e+02</td>\n",
       "      <td>3.737112e+01</td>\n",
       "      <td>4.96</td>\n",
       "      <td>NaN</td>\n",
       "      <td>NaN</td>\n",
       "      <td>NaN</td>\n",
       "      <td>NaN</td>\n",
       "      <td>NaN</td>\n",
       "      <td>NaN</td>\n",
       "      <td>NaN</td>\n",
       "      <td>3.506700e+02</td>\n",
       "    </tr>\n",
       "    <tr>\n",
       "      <th>Conforming_Limit_000</th>\n",
       "      <td>1312153.0</td>\n",
       "      <td>5.325683e+02</td>\n",
       "      <td>8.689155e+01</td>\n",
       "      <td>11.00</td>\n",
       "      <td>NaN</td>\n",
       "      <td>NaN</td>\n",
       "      <td>NaN</td>\n",
       "      <td>NaN</td>\n",
       "      <td>NaN</td>\n",
       "      <td>NaN</td>\n",
       "      <td>NaN</td>\n",
       "      <td>6.250000e+02</td>\n",
       "    </tr>\n",
       "    <tr>\n",
       "      <th>Assets_000_Panel</th>\n",
       "      <td>1312989.0</td>\n",
       "      <td>3.007767e+08</td>\n",
       "      <td>5.480965e+08</td>\n",
       "      <td>0.00</td>\n",
       "      <td>3295.0</td>\n",
       "      <td>10000.0</td>\n",
       "      <td>10000.0</td>\n",
       "      <td>1835386.0</td>\n",
       "      <td>178034172.0</td>\n",
       "      <td>1.288658e+09</td>\n",
       "      <td>1.896773e+09</td>\n",
       "      <td>1.945467e+09</td>\n",
       "    </tr>\n",
       "    <tr>\n",
       "      <th>Loan_Amount_Bucket</th>\n",
       "      <td>1312989.0</td>\n",
       "      <td>3.133861e+00</td>\n",
       "      <td>1.564779e+00</td>\n",
       "      <td>1.00</td>\n",
       "      <td>1.0</td>\n",
       "      <td>1.0</td>\n",
       "      <td>2.0</td>\n",
       "      <td>3.0</td>\n",
       "      <td>4.0</td>\n",
       "      <td>5.000000e+00</td>\n",
       "      <td>8.000000e+00</td>\n",
       "      <td>1.100000e+01</td>\n",
       "    </tr>\n",
       "  </tbody>\n",
       "</table>\n",
       "</div>"
      ],
      "text/plain": [
       "                                    count          mean           std    min  \\\n",
       "Applicant_Income_000            1195315.0  1.149355e+02  1.032776e+02   1.00   \n",
       "As_of_Year                      1312989.0  2.012795e+03  1.911166e+00  11.00   \n",
       "FFIEC_Median_Family_Income      1311342.0  8.759453e+04  1.953677e+04  11.00   \n",
       "Loan_Amount_000                 1312989.0  2.631222e+02  1.538755e+02   1.00   \n",
       "Number_of_Owner_Occupied_Units  1311152.0  1.383851e+03  5.657789e+02   4.00   \n",
       "Tract_to_MSA_MD_Income_Pct      1311179.0  1.167828e+02  3.737112e+01   4.96   \n",
       "Conforming_Limit_000            1312153.0  5.325683e+02  8.689155e+01  11.00   \n",
       "Assets_000_Panel                1312989.0  3.007767e+08  5.480965e+08   0.00   \n",
       "Loan_Amount_Bucket              1312989.0  3.133861e+00  1.564779e+00   1.00   \n",
       "\n",
       "                                    1%      10%      25%        50%  \\\n",
       "Applicant_Income_000               NaN      NaN      NaN        NaN   \n",
       "As_of_Year                      2012.0   2012.0   2012.0     2013.0   \n",
       "FFIEC_Median_Family_Income         NaN      NaN      NaN        NaN   \n",
       "Loan_Amount_000                   30.0     99.0    153.0      233.0   \n",
       "Number_of_Owner_Occupied_Units     NaN      NaN      NaN        NaN   \n",
       "Tract_to_MSA_MD_Income_Pct         NaN      NaN      NaN        NaN   \n",
       "Conforming_Limit_000               NaN      NaN      NaN        NaN   \n",
       "Assets_000_Panel                3295.0  10000.0  10000.0  1835386.0   \n",
       "Loan_Amount_Bucket                 1.0      1.0      2.0        3.0   \n",
       "\n",
       "                                        75%           90%           99%  \\\n",
       "Applicant_Income_000                    NaN           NaN           NaN   \n",
       "As_of_Year                           2013.0  2.014000e+03  2.014000e+03   \n",
       "FFIEC_Median_Family_Income              NaN           NaN           NaN   \n",
       "Loan_Amount_000                       344.0  4.590000e+02  7.690000e+02   \n",
       "Number_of_Owner_Occupied_Units          NaN           NaN           NaN   \n",
       "Tract_to_MSA_MD_Income_Pct              NaN           NaN           NaN   \n",
       "Conforming_Limit_000                    NaN           NaN           NaN   \n",
       "Assets_000_Panel                178034172.0  1.288658e+09  1.896773e+09   \n",
       "Loan_Amount_Bucket                      4.0  5.000000e+00  8.000000e+00   \n",
       "\n",
       "                                         max  \n",
       "Applicant_Income_000            9.999000e+03  \n",
       "As_of_Year                      2.014000e+03  \n",
       "FFIEC_Median_Family_Income      1.134000e+05  \n",
       "Loan_Amount_000                 1.000000e+03  \n",
       "Number_of_Owner_Occupied_Units  3.632000e+03  \n",
       "Tract_to_MSA_MD_Income_Pct      3.506700e+02  \n",
       "Conforming_Limit_000            6.250000e+02  \n",
       "Assets_000_Panel                1.945467e+09  \n",
       "Loan_Amount_Bucket              1.100000e+01  "
      ]
     },
     "execution_count": 11,
     "metadata": {},
     "output_type": "execute_result"
    }
   ],
   "source": [
    "# descriptive statistics of numeric variables\n",
    "df_hmda1.describe(percentiles=[0.01,0.1,0.25,0.5,0.75,0.9,0.99],include=[np.number]).transpose()\n",
    "\n",
    "# unreasonable min value of  As_of_Year, Applicant_Income_000, Loan_Amount_000, Conforming_Limit_000\n",
    "# will check these these variables"
   ]
  },
  {
   "cell_type": "code",
   "execution_count": 12,
   "metadata": {
    "collapsed": false
   },
   "outputs": [
    {
     "data": {
      "text/plain": [
       "2012    4.227294e-01\n",
       "2013    3.580060e-01\n",
       "2014    2.192638e-01\n",
       "11      7.616210e-07\n",
       "Name: As_of_Year, dtype: float64"
      ]
     },
     "execution_count": 12,
     "metadata": {},
     "output_type": "execute_result"
    }
   ],
   "source": [
    "################################ \n",
    "# check the value of as_of_year\n",
    "################################\n",
    "\n",
    "df_hmda1['As_of_Year'].value_counts(normalize=True,sort=True, ascending=False, bins=None, dropna=True)"
   ]
  },
  {
   "cell_type": "code",
   "execution_count": 13,
   "metadata": {
    "collapsed": false
   },
   "outputs": [
    {
     "data": {
      "text/html": [
       "<div>\n",
       "<table border=\"1\" class=\"dataframe\">\n",
       "  <thead>\n",
       "    <tr style=\"text-align: right;\">\n",
       "      <th></th>\n",
       "      <th>Agency_Code</th>\n",
       "      <th>Applicant_Income_000</th>\n",
       "      <th>As_of_Year</th>\n",
       "      <th>Census_Tract_Number</th>\n",
       "      <th>County_Code</th>\n",
       "      <th>FFIEC_Median_Family_Income</th>\n",
       "      <th>Loan_Amount_000</th>\n",
       "      <th>MSA_MD</th>\n",
       "      <th>Number_of_Owner_Occupied_Units</th>\n",
       "      <th>Respondent_ID</th>\n",
       "      <th>...</th>\n",
       "      <th>Respondent_Name_TS</th>\n",
       "      <th>Respondent_City_TS</th>\n",
       "      <th>Respondent_State_TS</th>\n",
       "      <th>Respondent_ZIP_Code</th>\n",
       "      <th>Parent_Name_TS</th>\n",
       "      <th>Parent_City_TS</th>\n",
       "      <th>Parent_State_TS</th>\n",
       "      <th>Parent_ZIP_Code</th>\n",
       "      <th>Assets_000_Panel</th>\n",
       "      <th>Loan_Amount_Bucket</th>\n",
       "    </tr>\n",
       "  </thead>\n",
       "  <tbody>\n",
       "    <tr>\n",
       "      <th>691</th>\n",
       "      <td>11</td>\n",
       "      <td>11.0</td>\n",
       "      <td>11</td>\n",
       "      <td>11</td>\n",
       "      <td>11</td>\n",
       "      <td>11.0</td>\n",
       "      <td>11</td>\n",
       "      <td>11</td>\n",
       "      <td>11.0</td>\n",
       "      <td>11</td>\n",
       "      <td>...</td>\n",
       "      <td>11</td>\n",
       "      <td>11</td>\n",
       "      <td>11</td>\n",
       "      <td>11</td>\n",
       "      <td>11</td>\n",
       "      <td>11</td>\n",
       "      <td>11</td>\n",
       "      <td>11</td>\n",
       "      <td>11</td>\n",
       "      <td>11.0</td>\n",
       "    </tr>\n",
       "  </tbody>\n",
       "</table>\n",
       "<p>1 rows × 34 columns</p>\n",
       "</div>"
      ],
      "text/plain": [
       "    Agency_Code  Applicant_Income_000  As_of_Year Census_Tract_Number  \\\n",
       "691          11                  11.0          11                  11   \n",
       "\n",
       "    County_Code  FFIEC_Median_Family_Income  Loan_Amount_000 MSA_MD  \\\n",
       "691          11                        11.0               11     11   \n",
       "\n",
       "     Number_of_Owner_Occupied_Units Respondent_ID        ...          \\\n",
       "691                            11.0            11        ...           \n",
       "\n",
       "    Respondent_Name_TS Respondent_City_TS  Respondent_State_TS  \\\n",
       "691                 11                 11                   11   \n",
       "\n",
       "    Respondent_ZIP_Code Parent_Name_TS Parent_City_TS Parent_State_TS  \\\n",
       "691                  11             11             11              11   \n",
       "\n",
       "    Parent_ZIP_Code Assets_000_Panel Loan_Amount_Bucket  \n",
       "691              11               11               11.0  \n",
       "\n",
       "[1 rows x 34 columns]"
      ]
     },
     "execution_count": 13,
     "metadata": {},
     "output_type": "execute_result"
    }
   ],
   "source": [
    "# check the the row with year=11\n",
    "\n",
    "df_hmda1[df_hmda1['As_of_Year']==11]"
   ]
  },
  {
   "cell_type": "code",
   "execution_count": 14,
   "metadata": {
    "collapsed": false
   },
   "outputs": [
    {
     "name": "stderr",
     "output_type": "stream",
     "text": [
      "C:\\Users\\YG\\Anaconda2\\lib\\site-packages\\ipykernel\\__main__.py:2: SettingWithCopyWarning: \n",
      "A value is trying to be set on a copy of a slice from a DataFrame\n",
      "\n",
      "See the caveats in the documentation: http://pandas.pydata.org/pandas-docs/stable/indexing.html#indexing-view-versus-copy\n",
      "  from ipykernel import kernelapp as app\n"
     ]
    }
   ],
   "source": [
    "# delete the rwo of as of year = 10\n",
    "df_hmda1.drop(df_hmda1[df_hmda1['As_of_Year']==11].index, inplace=True, axis=0)"
   ]
  },
  {
   "cell_type": "code",
   "execution_count": 15,
   "metadata": {
    "collapsed": false
   },
   "outputs": [
    {
     "data": {
      "text/plain": [
       "2012    0.422730\n",
       "2013    0.358006\n",
       "2014    0.219264\n",
       "Name: As_of_Year, dtype: float64"
      ]
     },
     "execution_count": 15,
     "metadata": {},
     "output_type": "execute_result"
    }
   ],
   "source": [
    "df_hmda1['As_of_Year'].value_counts(normalize=True,sort=True, ascending=False, bins=None, dropna=True)"
   ]
  },
  {
   "cell_type": "code",
   "execution_count": 16,
   "metadata": {
    "collapsed": false
   },
   "outputs": [
    {
     "data": {
      "text/plain": [
       "417.0"
      ]
     },
     "execution_count": 16,
     "metadata": {},
     "output_type": "execute_result"
    }
   ],
   "source": [
    "########################################\n",
    "# distribution of Conforming_Limit_000\n",
    "########################################\n",
    "df_hmda1['Conforming_Limit_000'].min()"
   ]
  },
  {
   "cell_type": "code",
   "execution_count": 17,
   "metadata": {
    "collapsed": false
   },
   "outputs": [
    {
     "data": {
      "text/plain": [
       "<matplotlib.text.Text at 0x3d737160>"
      ]
     },
     "execution_count": 17,
     "metadata": {},
     "output_type": "execute_result"
    },
    {
     "data": {
      "image/png": "[encoded data removed]",
      "text/plain": [
       "<matplotlib.figure.Figure at 0x3d7d5eb8>"
      ]
     },
     "metadata": {},
     "output_type": "display_data"
    }
   ],
   "source": [
    "# distribution of conforming limit\n",
    "df_hmda1.hist(column='Conforming_Limit_000',by='Loan_Type_Description',bins=50)\n",
    "plt.xlabel('Single Unit Conforming Loan limit for the given county, in $000s')\n",
    "\n",
    "# the results matches with the regulation of limit of that area\n",
    "# Reference: https://www.fhfa.gov/DataTools/Downloads/Pages/Conforming-Loan-Limits.aspx"
   ]
  },
  {
   "cell_type": "code",
   "execution_count": 18,
   "metadata": {
    "collapsed": false
   },
   "outputs": [
    {
     "data": {
      "image/png": "[encoded data removed]",
      "text/plain": [
       "<matplotlib.figure.Figure at 0x9121240>"
      ]
     },
     "metadata": {},
     "output_type": "display_data"
    }
   ],
   "source": [
    "########################################\n",
    "# distribution of Loan_Amount_000, \n",
    "# Applicant_Income_000\n",
    "########################################\n",
    "# distribution of loan amount by loan type\n",
    "\n",
    "# loan type\n",
    "df_hmda1['Loan_Type_Description'].value_counts()\n",
    "\n",
    "# plot\n",
    "fig, ax = plt.subplots(nrows=5, ncols=1, figsize=(7,7))\n",
    "\n",
    "ax[0].hist(df_hmda1['Loan_Amount_000'], bins=50)\n",
    "ax[0].set_title('Distribution of Loan Amount in $000s, Overall')\n",
    "ax[0].set_xlim(left=0,right=1200)\n",
    "\n",
    "ax[1].hist(df_hmda1['Loan_Amount_000'][df_hmda1['Loan_Type_Description']=='Conventional'], bins=50)\n",
    "ax[1].set_title('Conventional')\n",
    "ax[1].set_xlim(left=0,right=1200)\n",
    "\n",
    "ax[2].hist(df_hmda1['Loan_Amount_000'][df_hmda1['Loan_Type_Description']=='VA guaranteed'], bins=50)\n",
    "ax[2].set_title('VA guaranteed')\n",
    "ax[2].set_xlim(left=0,right=1200)\n",
    "\n",
    "ax[3].hist(df_hmda1['Loan_Amount_000'][df_hmda1['Loan_Type_Description']=='FHA insured'], bins=50)\n",
    "ax[3].set_title('FHA insured')\n",
    "ax[3].set_xlim(left=0,right=1200)\n",
    "\n",
    "ax[4].hist(df_hmda1['Loan_Amount_000'][df_hmda1['Loan_Type_Description']=='FSA/RHS guaranteed'], bins=50)\n",
    "ax[4].set_title('FSA/RHS guaranteed')\n",
    "ax[4].set_xlim(left=0,right=1200)\n",
    "\n",
    "fig.tight_layout()\n",
    "plt.show()"
   ]
  },
  {
   "cell_type": "code",
   "execution_count": 75,
   "metadata": {
    "collapsed": false
   },
   "outputs": [
    {
     "data": {
      "text/plain": [
       "<matplotlib.text.Text at 0x24e17438>"
      ]
     },
     "execution_count": 75,
     "metadata": {},
     "output_type": "execute_result"
    },
    {
     "data": {
      "image/png": "[encoded data removed]",
      "text/plain": [
       "<matplotlib.figure.Figure at 0x24fe7a90>"
      ]
     },
     "metadata": {},
     "output_type": "display_data"
    }
   ],
   "source": [
    "# distribution of loan amount\n",
    "df_hmda1['Loan_Amount_000'].plot(kind='hist',bins=50,\n",
    "                                 title='Distribution of Loan Amount')\n",
    "plt.xlabel('Amount of the loan, in $000s')"
   ]
  },
  {
   "cell_type": "code",
   "execution_count": 19,
   "metadata": {
    "collapsed": false
   },
   "outputs": [
    {
     "data": {
      "text/plain": [
       "0.00       1.0\n",
       "0.10      42.0\n",
       "0.25      60.0\n",
       "0.50      94.0\n",
       "0.75     141.0\n",
       "0.90     205.0\n",
       "0.99     440.0\n",
       "1.00    9999.0\n",
       "Name: Applicant_Income_000, dtype: float64"
      ]
     },
     "execution_count": 19,
     "metadata": {},
     "output_type": "execute_result"
    }
   ],
   "source": [
    "# distribution of applicant income\n",
    "df_hmda1['Applicant_Income_000'][df_hmda1['Applicant_Income_000'].isnull()==False].quantile(q=[0,0.1,0.25,0.5,0.75,0.9,0.99,1])"
   ]
  },
  {
   "cell_type": "code",
   "execution_count": 76,
   "metadata": {
    "collapsed": false
   },
   "outputs": [
    {
     "data": {
      "text/plain": [
       "<matplotlib.text.Text at 0x2c709d30>"
      ]
     },
     "execution_count": 76,
     "metadata": {},
     "output_type": "execute_result"
    },
    {
     "data": {
      "image/png": "[encoded data removed]",
      "text/plain": [
       "<matplotlib.figure.Figure at 0x1dd12160>"
      ]
     },
     "metadata": {},
     "output_type": "display_data"
    }
   ],
   "source": [
    "# distribution of applicant income\n",
    "df_hmda1['Applicant_Income_000'].plot(kind='hist',bins=50,title='Distribution of applicant income')\n",
    "plt.xlabel('Applicant Income, in $000s')"
   ]
  },
  {
   "cell_type": "code",
   "execution_count": 20,
   "metadata": {
    "collapsed": false
   },
   "outputs": [
    {
     "data": {
      "image/png": "[encoded data removed]",
      "text/plain": [
       "<matplotlib.figure.Figure at 0x10944ef0>"
      ]
     },
     "metadata": {},
     "output_type": "display_data"
    }
   ],
   "source": [
    "# plot\n",
    "fig, ax = plt.subplots(nrows=4, ncols=1, figsize=(7,7))\n",
    "\n",
    "ax[0].hist(df_hmda1['Applicant_Income_000'][df_hmda1['Loan_Type_Description']=='Conventional']\n",
    "            [df_hmda1['Applicant_Income_000'].isnull()==False],\n",
    "            bins=50)\n",
    "ax[0].set_title('Conventional-Applicant Income in $000s')\n",
    "\n",
    "\n",
    "ax[1].hist(df_hmda1['Applicant_Income_000'][df_hmda1['Loan_Type_Description']=='VA guaranteed']\n",
    "           [df_hmda1['Applicant_Income_000'].isnull()==False], \n",
    "           bins=50)\n",
    "ax[1].set_title('VA guaranteed-Applicant Income in $000s')\n",
    "\n",
    "ax[2].hist(df_hmda1['Applicant_Income_000'][df_hmda1['Loan_Type_Description']=='FHA insured']\n",
    "           [df_hmda1['Applicant_Income_000'].isnull()==False], \n",
    "           bins=50)\n",
    "ax[2].set_title('FHA insured-Applicant Income in $000s')\n",
    "\n",
    "ax[3].hist(df_hmda1['Applicant_Income_000'][df_hmda1['Loan_Type_Description']=='FSA/RHS guaranteed']\n",
    "           [df_hmda1['Applicant_Income_000'].isnull()==False], \n",
    "           bins=50)\n",
    "ax[3].set_title('FSA/RHS guaranteed-Applicant Income in $000s')\n",
    "\n",
    "\n",
    "fig.tight_layout()\n",
    "plt.show()\n"
   ]
  },
  {
   "cell_type": "code",
   "execution_count": 17,
   "metadata": {
    "collapsed": false
   },
   "outputs": [
    {
     "name": "stderr",
     "output_type": "stream",
     "text": [
      "C:\\Users\\YG\\Anaconda2\\lib\\site-packages\\ipykernel\\__main__.py:3: SettingWithCopyWarning: \n",
      "A value is trying to be set on a copy of a slice from a DataFrame.\n",
      "Try using .loc[row_indexer,col_indexer] = value instead\n",
      "\n",
      "See the caveats in the documentation: http://pandas.pydata.org/pandas-docs/stable/indexing.html#indexing-view-versus-copy\n",
      "  app.launch_new_instance()\n"
     ]
    }
   ],
   "source": [
    "# check the loan to income rate\n",
    "# according to the mortgage requirement, if DTI is too high, it may not be reasonable values.\n",
    "df_hmda1['Loan_to_income'] = df_hmda1['Loan_Amount_000']/df_hmda1['Applicant_Income_000']"
   ]
  },
  {
   "cell_type": "code",
   "execution_count": 18,
   "metadata": {
    "collapsed": false
   },
   "outputs": [
    {
     "data": {
      "text/plain": [
       "2.5522388059701493"
      ]
     },
     "execution_count": 18,
     "metadata": {},
     "output_type": "execute_result"
    }
   ],
   "source": [
    "df_hmda1['Loan_to_income'].median()"
   ]
  },
  {
   "cell_type": "code",
   "execution_count": 19,
   "metadata": {
    "collapsed": false
   },
   "outputs": [
    {
     "data": {
      "text/plain": [
       "0.00      0.003937\n",
       "0.10      1.153153\n",
       "0.25      1.770833\n",
       "0.50      2.552239\n",
       "0.75      3.443478\n",
       "0.90      4.343750\n",
       "0.99      6.309816\n",
       "1.00    378.000000\n",
       "Name: Loan_to_income, dtype: float64"
      ]
     },
     "execution_count": 19,
     "metadata": {},
     "output_type": "execute_result"
    }
   ],
   "source": [
    "df_hmda1['Loan_to_income'][df_hmda1['Loan_to_income'].isnull()==False].quantile(q=[0,0.1,0.25,0.5,0.75,0.9,0.99,1])\n",
    "\n",
    "# those applicant with loan 10 times over income does not make much sense and might be value with error\n",
    "# exclude those rows"
   ]
  },
  {
   "cell_type": "code",
   "execution_count": 20,
   "metadata": {
    "collapsed": false
   },
   "outputs": [
    {
     "name": "stderr",
     "output_type": "stream",
     "text": [
      "C:\\Users\\YG\\Anaconda2\\lib\\site-packages\\ipykernel\\__main__.py:1: SettingWithCopyWarning: \n",
      "A value is trying to be set on a copy of a slice from a DataFrame\n",
      "\n",
      "See the caveats in the documentation: http://pandas.pydata.org/pandas-docs/stable/indexing.html#indexing-view-versus-copy\n",
      "  if __name__ == '__main__':\n"
     ]
    }
   ],
   "source": [
    "df_hmda1.drop(df_hmda1[df_hmda1['Loan_to_income']>=10].index, inplace=True, axis=0)"
   ]
  },
  {
   "cell_type": "code",
   "execution_count": 21,
   "metadata": {
    "collapsed": false
   },
   "outputs": [
    {
     "data": {
      "image/png": "[encoded data removed]",
      "text/plain": [
       "<matplotlib.figure.Figure at 0x135280b8>"
      ]
     },
     "metadata": {},
     "output_type": "display_data"
    }
   ],
   "source": [
    "# check the distribution of loan to income\n",
    "fig, ax = plt.subplots(nrows=4, ncols=1, figsize=(7,7))\n",
    "\n",
    "ax[0].hist(df_hmda1['Loan_to_income'][df_hmda1['Loan_Type_Description']=='Conventional']\n",
    "            [df_hmda1['Loan_to_income'].isnull()==False],\n",
    "            bins=50)\n",
    "ax[0].set_title('Conventional-loan over income ratio')\n",
    "\n",
    "\n",
    "ax[1].hist(df_hmda1['Loan_to_income'][df_hmda1['Loan_Type_Description']=='VA guaranteed']\n",
    "           [df_hmda1['Loan_to_income'].isnull()==False], \n",
    "           bins=50)\n",
    "ax[1].set_title('VA guaranteed-loan over income ratio')\n",
    "\n",
    "ax[2].hist(df_hmda1['Loan_to_income'][df_hmda1['Loan_Type_Description']=='FHA insured']\n",
    "           [df_hmda1['Loan_to_income'].isnull()==False], \n",
    "           bins=50)\n",
    "ax[2].set_title('FHA insured-loan over income ratio')\n",
    "\n",
    "ax[3].hist(df_hmda1['Loan_to_income'][df_hmda1['Loan_Type_Description']=='FSA/RHS guaranteed']\n",
    "           [df_hmda1['Loan_to_income'].isnull()==False], \n",
    "           bins=50)\n",
    "ax[3].set_title('FSA/RHS guaranteed-loan over income ratio')\n",
    "\n",
    "\n",
    "fig.tight_layout()\n",
    "plt.show()\n"
   ]
  },
  {
   "cell_type": "code",
   "execution_count": 27,
   "metadata": {
    "collapsed": false
   },
   "outputs": [
    {
     "data": {
      "text/plain": [
       "As_of_Year       0\n",
       "Agency_Code      0\n",
       "Respondent_ID    0\n",
       "Count            0\n",
       "dtype: int64"
      ]
     },
     "execution_count": 27,
     "metadata": {},
     "output_type": "execute_result"
    }
   ],
   "source": [
    "###############################################\n",
    "# Check Respondent_Name_TS\n",
    "##############################################\n",
    "# count to see whether 'As_of_Year'+'Agency_Code'+'Respondent_ID' \n",
    "# are one to one match with 'Respondent_Name_TS'\n",
    "\n",
    "# Whether there are multiple Respondent_Name_TS matched to the same 'As_of_Year'+'Agency_Code'+'Respondent_ID'\n",
    "df_sr = df_hmda1.groupby(by=['As_of_Year','Agency_Code','Respondent_ID'])['Respondent_Name_TS'].nunique()\n",
    "# make the series a data frame\n",
    "df_sr = pd.DataFrame(df_sr)\n",
    "df_sr.columns = ['Count']\n",
    "df_sr.reset_index(inplace=True)\n",
    "# Count all the 'As_of_Year'+'Agency_Code'+'Respondent_ID' with multiple'Respondent_Name_TS'\n",
    "# None exists\n",
    "df_sr[df_sr['Count'] != 1].count()"
   ]
  },
  {
   "cell_type": "code",
   "execution_count": 28,
   "metadata": {
    "collapsed": false
   },
   "outputs": [
    {
     "name": "stderr",
     "output_type": "stream",
     "text": [
      "C:\\Users\\YG\\Anaconda2\\lib\\site-packages\\ipykernel\\__main__.py:2: SettingWithCopyWarning: \n",
      "A value is trying to be set on a copy of a slice from a DataFrame.\n",
      "Try using .loc[row_indexer,col_indexer] = value instead\n",
      "\n",
      "See the caveats in the documentation: http://pandas.pydata.org/pandas-docs/stable/indexing.html#indexing-view-versus-copy\n",
      "  from ipykernel import kernelapp as app\n"
     ]
    },
    {
     "data": {
      "text/html": [
       "<div>\n",
       "<table border=\"1\" class=\"dataframe\">\n",
       "  <thead>\n",
       "    <tr style=\"text-align: right;\">\n",
       "      <th></th>\n",
       "      <th>Respondent_Name_TS</th>\n",
       "      <th>Count</th>\n",
       "    </tr>\n",
       "  </thead>\n",
       "  <tbody>\n",
       "    <tr>\n",
       "      <th>253</th>\n",
       "      <td>CAPITAL BANK, NA</td>\n",
       "      <td>4</td>\n",
       "    </tr>\n",
       "    <tr>\n",
       "      <th>319</th>\n",
       "      <td>CITIZENS BANK</td>\n",
       "      <td>4</td>\n",
       "    </tr>\n",
       "    <tr>\n",
       "      <th>355</th>\n",
       "      <td>COMMUNITY BANK</td>\n",
       "      <td>4</td>\n",
       "    </tr>\n",
       "    <tr>\n",
       "      <th>492</th>\n",
       "      <td>FARMERS AND MERCHANTS BANK</td>\n",
       "      <td>4</td>\n",
       "    </tr>\n",
       "    <tr>\n",
       "      <th>505</th>\n",
       "      <td>FIDELITY BANK</td>\n",
       "      <td>5</td>\n",
       "    </tr>\n",
       "    <tr>\n",
       "      <th>521</th>\n",
       "      <td>FIRST BANK</td>\n",
       "      <td>8</td>\n",
       "    </tr>\n",
       "    <tr>\n",
       "      <th>529</th>\n",
       "      <td>FIRST CENTURY BANK</td>\n",
       "      <td>4</td>\n",
       "    </tr>\n",
       "    <tr>\n",
       "      <th>538</th>\n",
       "      <td>FIRST COMMUNITY BANK</td>\n",
       "      <td>5</td>\n",
       "    </tr>\n",
       "    <tr>\n",
       "      <th>572</th>\n",
       "      <td>FIRST NATIONAL BANK</td>\n",
       "      <td>4</td>\n",
       "    </tr>\n",
       "    <tr>\n",
       "      <th>767</th>\n",
       "      <td>HOMETOWN BANK</td>\n",
       "      <td>4</td>\n",
       "    </tr>\n",
       "    <tr>\n",
       "      <th>1336</th>\n",
       "      <td>SUMMIT COMMUNITY BANK</td>\n",
       "      <td>4</td>\n",
       "    </tr>\n",
       "    <tr>\n",
       "      <th>1414</th>\n",
       "      <td>THE PEOPLES BANK</td>\n",
       "      <td>6</td>\n",
       "    </tr>\n",
       "    <tr>\n",
       "      <th>1512</th>\n",
       "      <td>VALLEY BANK</td>\n",
       "      <td>4</td>\n",
       "    </tr>\n",
       "  </tbody>\n",
       "</table>\n",
       "</div>"
      ],
      "text/plain": [
       "              Respondent_Name_TS  Count\n",
       "253             CAPITAL BANK, NA      4\n",
       "319                CITIZENS BANK      4\n",
       "355               COMMUNITY BANK      4\n",
       "492   FARMERS AND MERCHANTS BANK      4\n",
       "505                FIDELITY BANK      5\n",
       "521                   FIRST BANK      8\n",
       "529           FIRST CENTURY BANK      4\n",
       "538         FIRST COMMUNITY BANK      5\n",
       "572          FIRST NATIONAL BANK      4\n",
       "767                HOMETOWN BANK      4\n",
       "1336       SUMMIT COMMUNITY BANK      4\n",
       "1414            THE PEOPLES BANK      6\n",
       "1512                 VALLEY BANK      4"
      ]
     },
     "execution_count": 28,
     "metadata": {},
     "output_type": "execute_result"
    }
   ],
   "source": [
    "# Whether a Respondent_Name_TS has only one unique 'As_of_Year'+'Agency_Code'+'Respondent_ID'\n",
    "df_hmda1['instituteID'] = df_hmda1['As_of_Year'].astype(str) + df_hmda1['Agency_Code'].astype(str) + df_hmda1['Respondent_ID'].astype(str)\n",
    "df_sr = df_hmda1.groupby(by=['Respondent_Name_TS'])['instituteID'].nunique()\n",
    "\n",
    "# make the series a data frame\n",
    "df_sr = pd.DataFrame(df_sr)\n",
    "df_sr.columns = ['Count']\n",
    "df_sr.reset_index(inplace=True)\n",
    "# Count all the 'As_of_Year'+'Agency_Code'+'Respondent_ID' with multiple'Respondent_Name_TS'\n",
    "# None exists\n",
    "df_sr[df_sr['Count'] > 3]\n",
    "\n",
    "# There are banks that have several 'As_of_Year'+'Agency_Code'+'Respondent_ID'\n",
    "# Checked the ffiec website   https://www.ffiec.gov/HmdaAdWebReport/DisWelcome.aspx\n",
    "# those respondent IDs are of the same bank from different branches, \n",
    "# will assume them as the same insitutes for further analysas"
   ]
  },
  {
   "cell_type": "code",
   "execution_count": null,
   "metadata": {
    "collapsed": true
   },
   "outputs": [],
   "source": [
    "##############################################\n",
    "# Check to see value of the string variables\n",
    "##############################################"
   ]
  },
  {
   "cell_type": "code",
   "execution_count": 29,
   "metadata": {
    "collapsed": false
   },
   "outputs": [
    {
     "data": {
      "text/plain": [
       "VA    0.514802\n",
       "MD    0.342625\n",
       "WV    0.059024\n",
       "DE    0.046884\n",
       "DC    0.036665\n",
       "Name: State, dtype: float64"
      ]
     },
     "execution_count": 29,
     "metadata": {},
     "output_type": "execute_result"
    }
   ],
   "source": [
    "df_hmda1['State'].value_counts(normalize=True,sort=True, ascending=False, bins=None, dropna=True)"
   ]
  },
  {
   "cell_type": "code",
   "execution_count": 30,
   "metadata": {
    "collapsed": false
   },
   "outputs": [
    {
     "data": {
      "text/plain": [
       "Refinance    0.637997\n",
       "Purchase     0.362003\n",
       "Name: Loan_Purpose_Description, dtype: float64"
      ]
     },
     "execution_count": 30,
     "metadata": {},
     "output_type": "execute_result"
    }
   ],
   "source": [
    "df_hmda1['Loan_Purpose_Description'].value_counts(normalize=True,sort=True, ascending=False, bins=None, dropna=True)"
   ]
  },
  {
   "cell_type": "code",
   "execution_count": 31,
   "metadata": {
    "collapsed": false
   },
   "outputs": [
    {
     "data": {
      "text/plain": [
       "CFPB           0.411161\n",
       "HUD            0.360818\n",
       "FDIC           0.082549\n",
       "Fed Reserve    0.062840\n",
       "OCC            0.041990\n",
       "NCUA           0.040642\n",
       "Name: Agency_Code_Description, dtype: float64"
      ]
     },
     "execution_count": 31,
     "metadata": {},
     "output_type": "execute_result"
    }
   ],
   "source": [
    "df_hmda1['Agency_Code_Description'].value_counts(normalize=True,sort=True, ascending=False, bins=None, dropna=True)"
   ]
  },
  {
   "cell_type": "code",
   "execution_count": 32,
   "metadata": {
    "collapsed": false
   },
   "outputs": [
    {
     "data": {
      "text/plain": [
       "First Lien          0.984931\n",
       "Subordinate Lien    0.015069\n",
       "Name: Lien_Status_Description, dtype: float64"
      ]
     },
     "execution_count": 32,
     "metadata": {},
     "output_type": "execute_result"
    }
   ],
   "source": [
    "df_hmda1['Lien_Status_Description'].value_counts(normalize=True,sort=True, ascending=False, bins=None, dropna=True)"
   ]
  },
  {
   "cell_type": "code",
   "execution_count": 255,
   "metadata": {
    "collapsed": false
   },
   "outputs": [
    {
     "data": {
      "text/plain": [
       "Conventional          0.701402\n",
       "FHA insured           0.143069\n",
       "VA guaranteed         0.136712\n",
       "FSA/RHS guaranteed    0.018817\n",
       "Name: Loan_Type_Description, dtype: float64"
      ]
     },
     "execution_count": 255,
     "metadata": {},
     "output_type": "execute_result"
    }
   ],
   "source": [
    "df_hmda1['Loan_Type_Description'].value_counts(normalize=True,sort=True, ascending=False, bins=None, dropna=True)"
   ]
  },
  {
   "cell_type": "code",
   "execution_count": null,
   "metadata": {
    "collapsed": true
   },
   "outputs": [],
   "source": [
    "################################################################################\n",
    "# Market Analysis\n",
    "#\n",
    "# Hypothesis of market entry depends on both external and internal factors,\n",
    "# HMDA data are only a source to analysis the external factors. Further information\n",
    "# about the company's capability, finanical statement, and other information \n",
    "# will be needed to analysis the potential revenue and the cost of market entry.\n",
    "#\n",
    "# External market analysis\n",
    "# 1.The market size by state and growth rate\n",
    "# 2.Main competitors / top lenders\n",
    "# 3.How competitive the market it, HHI\n",
    "################################################################################"
   ]
  },
  {
   "cell_type": "code",
   "execution_count": 25,
   "metadata": {
    "collapsed": false
   },
   "outputs": [
    {
     "name": "stdout",
     "output_type": "stream",
     "text": [
      "<class 'pandas.core.frame.DataFrame'>\n",
      "Int64Index: 918512 entries, 0 to 1320851\n",
      "Data columns (total 35 columns):\n",
      "Agency_Code                       918512 non-null object\n",
      "Applicant_Income_000              908323 non-null float64\n",
      "As_of_Year                        918512 non-null int64\n",
      "Census_Tract_Number               918512 non-null object\n",
      "County_Code                       918512 non-null object\n",
      "FFIEC_Median_Family_Income        917200 non-null float64\n",
      "Loan_Amount_000                   918512 non-null int64\n",
      "MSA_MD                            918512 non-null object\n",
      "Number_of_Owner_Occupied_Units    917052 non-null float64\n",
      "Respondent_ID                     918512 non-null object\n",
      "Sequence_Number                   918512 non-null object\n",
      "State_Code                        918512 non-null object\n",
      "Tract_to_MSA_MD_Income_Pct        917068 non-null float64\n",
      "MSA_MD_Description                850728 non-null object\n",
      "Loan_Purpose_Description          918512 non-null object\n",
      "Agency_Code_Description           918512 non-null object\n",
      "Lien_Status_Description           918512 non-null object\n",
      "Loan_Type_Description             918512 non-null object\n",
      "State                             918512 non-null object\n",
      "County_Name                       917830 non-null object\n",
      "Conforming_Limit_000              917830 non-null float64\n",
      "Conventional_Status               918512 non-null object\n",
      "Conforming_Status                 918512 non-null object\n",
      "Conventional_Conforming_Flag      918512 non-null object\n",
      "Respondent_Name_TS                918512 non-null object\n",
      "Respondent_City_TS                918512 non-null object\n",
      "Respondent_State_TS               918512 non-null object\n",
      "Respondent_ZIP_Code               918512 non-null object\n",
      "Parent_Name_TS                    479940 non-null object\n",
      "Parent_City_TS                    479940 non-null object\n",
      "Parent_State_TS                   480081 non-null object\n",
      "Parent_ZIP_Code                   480504 non-null object\n",
      "Assets_000_Panel                  918512 non-null int64\n",
      "Loan_Amount_Bucket                918512 non-null float64\n",
      "Loan_to_income                    908323 non-null float64\n",
      "dtypes: float64(7), int64(3), object(25)\n",
      "memory usage: 252.3+ MB\n"
     ]
    }
   ],
   "source": [
    "# subset the conventioanl loan\n",
    "df_hmda_conventional = df_hmda1[df_hmda1['Loan_Type_Description']=='Conventional'].copy()\n",
    "df_hmda_conventional.info()"
   ]
  },
  {
   "cell_type": "code",
   "execution_count": 26,
   "metadata": {
    "collapsed": false
   },
   "outputs": [
    {
     "data": {
      "text/plain": [
       "Y    0.957476\n",
       "N    0.042524\n",
       "Name: Conventional_Conforming_Flag, dtype: float64"
      ]
     },
     "execution_count": 26,
     "metadata": {},
     "output_type": "execute_result"
    }
   ],
   "source": [
    "# Conventional and conforming loan market\n",
    "df_hmda_conventional['Conventional_Conforming_Flag'].value_counts(normalize=True, dropna=False)"
   ]
  },
  {
   "cell_type": "code",
   "execution_count": 27,
   "metadata": {
    "collapsed": false
   },
   "outputs": [
    {
     "name": "stdout",
     "output_type": "stream",
     "text": [
      "<class 'pandas.core.frame.DataFrame'>\n",
      "Int64Index: 879453 entries, 0 to 1320851\n",
      "Data columns (total 35 columns):\n",
      "Agency_Code                       879453 non-null object\n",
      "Applicant_Income_000              869602 non-null float64\n",
      "As_of_Year                        879453 non-null int64\n",
      "Census_Tract_Number               879453 non-null object\n",
      "County_Code                       879453 non-null object\n",
      "FFIEC_Median_Family_Income        878841 non-null float64\n",
      "Loan_Amount_000                   879453 non-null int64\n",
      "MSA_MD                            879453 non-null object\n",
      "Number_of_Owner_Occupied_Units    878703 non-null float64\n",
      "Respondent_ID                     879453 non-null object\n",
      "Sequence_Number                   879453 non-null object\n",
      "State_Code                        879453 non-null object\n",
      "Tract_to_MSA_MD_Income_Pct        878720 non-null float64\n",
      "MSA_MD_Description                813381 non-null object\n",
      "Loan_Purpose_Description          879453 non-null object\n",
      "Agency_Code_Description           879453 non-null object\n",
      "Lien_Status_Description           879453 non-null object\n",
      "Loan_Type_Description             879453 non-null object\n",
      "State                             879453 non-null object\n",
      "County_Name                       879453 non-null object\n",
      "Conforming_Limit_000              879453 non-null float64\n",
      "Conventional_Status               879453 non-null object\n",
      "Conforming_Status                 879453 non-null object\n",
      "Conventional_Conforming_Flag      879453 non-null object\n",
      "Respondent_Name_TS                879453 non-null object\n",
      "Respondent_City_TS                879453 non-null object\n",
      "Respondent_State_TS               879453 non-null object\n",
      "Respondent_ZIP_Code               879453 non-null object\n",
      "Parent_Name_TS                    455828 non-null object\n",
      "Parent_City_TS                    455828 non-null object\n",
      "Parent_State_TS                   455954 non-null object\n",
      "Parent_ZIP_Code                   456370 non-null object\n",
      "Assets_000_Panel                  879453 non-null int64\n",
      "Loan_Amount_Bucket                879453 non-null float64\n",
      "Loan_to_income                    869602 non-null float64\n",
      "dtypes: float64(7), int64(3), object(25)\n",
      "memory usage: 241.5+ MB\n"
     ]
    }
   ],
   "source": [
    "# Conventional and conforming loan dataset\n",
    "df_hmda_conv_conf = df_hmda_conventional[df_hmda_conventional['Conventional_Conforming_Flag']=='Y'].copy()\n",
    "df_hmda_conv_conf.info()\n",
    "# 879453 entries"
   ]
  },
  {
   "cell_type": "code",
   "execution_count": 28,
   "metadata": {
    "collapsed": false
   },
   "outputs": [
    {
     "data": {
      "image/png": "[encoded data removed]",
      "text/plain": [
       "<matplotlib.figure.Figure at 0x13deff28>"
      ]
     },
     "metadata": {},
     "output_type": "display_data"
    }
   ],
   "source": [
    "##############################################\n",
    "# The market size by state and growth rate\n",
    "##############################################\n",
    "# Total Loan amount by year\n",
    "loan_amount_byyear = df_hmda_conv_conf.groupby(by=['As_of_Year','State'])['Loan_Amount_000'].sum()\n",
    "df_loan_amount_byyear = pd.DataFrame(data=loan_amount_byyear,index=None)\n",
    "df_loan_amount_byyear.reset_index(inplace=True)\n",
    "\n",
    "# plot\n",
    "fig = sns.barplot(x='As_of_Year',y='Loan_Amount_000',data=df_loan_amount_byyear,\n",
    "                  hue='State', hue_order=['VA','MD','DC','WV','DE'])\n",
    "fig.set_title('Total Loan Amount in $000s')\n",
    "fig.set_xlabel('Year')\n",
    "fig.set_ylabel('Total Loan Amount in $000s')\n",
    "fig.grid(b='off')\n",
    "\n",
    "#  The total loan amount was decreasing from 2012 to 2014 in all the five states."
   ]
  },
  {
   "cell_type": "code",
   "execution_count": 149,
   "metadata": {
    "collapsed": false
   },
   "outputs": [
    {
     "data": {
      "text/plain": [
       "<matplotlib.text.Text at 0x37f1e1d0>"
      ]
     },
     "execution_count": 149,
     "metadata": {},
     "output_type": "execute_result"
    },
    {
     "data": {
      "image/png": "[encoded data removed]",
      "text/plain": [
       "<matplotlib.figure.Figure at 0x37eda940>"
      ]
     },
     "metadata": {},
     "output_type": "display_data"
    }
   ],
   "source": [
    "################################################################################\n",
    "# Interest Rate\n",
    "################################################################################\n",
    "# 30-Year Fixed-Rate Mortgages from 'http://www.freddiemac.com/pmms/pmms30.htm'\n",
    "rate = [['2011',4.45],\n",
    "['2012',3.66],\n",
    "['2013',3.98],\n",
    "['2014',4.17],\n",
    "['2015',3.85],\n",
    "['2016',3.65]]\n",
    "\n",
    "\n",
    "df_rate = pd.DataFrame.from_records(rate,columns=['YYYYMM', 'rate'])\n",
    "\n",
    "# Plot rate\n",
    "df_rate.plot(x='YYYYMM',y='rate', marker='o',legend=None, figsize=(6,3))\n",
    "plt.title('30-Year Fixed-Rate Mortgages')\n",
    "plt.ylabel('Average Rate')\n",
    "plt.xlabel('Year')"
   ]
  },
  {
   "cell_type": "code",
   "execution_count": 378,
   "metadata": {
    "collapsed": false
   },
   "outputs": [],
   "source": [
    "####################################################################\n",
    "# Market segment\n",
    "####################################################################"
   ]
  },
  {
   "cell_type": "code",
   "execution_count": null,
   "metadata": {
    "collapsed": true
   },
   "outputs": [],
   "source": [
    "# loan purpose by year"
   ]
  },
  {
   "cell_type": "code",
   "execution_count": 164,
   "metadata": {
    "collapsed": false
   },
   "outputs": [
    {
     "data": {
      "text/plain": [
       "<matplotlib.axes._subplots.AxesSubplot at 0xc43f7b8>"
      ]
     },
     "execution_count": 164,
     "metadata": {},
     "output_type": "execute_result"
    },
    {
     "data": {
      "image/png": "[encoded data removed]",
      "text/plain": [
       "<matplotlib.figure.Figure at 0xc4d2128>"
      ]
     },
     "metadata": {},
     "output_type": "display_data"
    }
   ],
   "source": [
    "Loan_Purpose_amount = df_hmda_conv_conf.groupby(by=['As_of_Year','Loan_Purpose_Description'])['Loan_Amount_000'].sum()\n",
    "Loan_Purpose_amount.unstack(level=-1).head(10)\n",
    "Loan_Purpose_amount.unstack().plot(kind='bar',stacked=True,\n",
    "                                 figsize=(6,3),\n",
    "                                 title='Trend of Loan Purpose by Total Loan Amount in $1000',\n",
    "                                 subplots=False)"
   ]
  },
  {
   "cell_type": "code",
   "execution_count": 165,
   "metadata": {
    "collapsed": true
   },
   "outputs": [],
   "source": [
    "# Loan purpose plot by state\n",
    "Loan_Purpose_amount = df_hmda_conv_conf.groupby(by=['As_of_Year','State','Loan_Purpose_Description'])['Loan_Amount_000'].sum()\n",
    "Loan_Purpose_amount = pd.DataFrame(data=Loan_Purpose_amount,index=None,columns=['Loan_Amount_000'])\n",
    "Loan_Purpose_amount.reset_index(inplace=True)\n",
    "Loan_Purpose_amount\n",
    "\n",
    "Loan_Purpose_amount_VA = Loan_Purpose_amount[Loan_Purpose_amount['State']=='VA']\n",
    "Loan_Purpose_amount_MD = Loan_Purpose_amount[Loan_Purpose_amount['State']=='MD']\n",
    "Loan_Purpose_amount_DC = Loan_Purpose_amount[Loan_Purpose_amount['State']=='DC']\n",
    "Loan_Purpose_amount_WV = Loan_Purpose_amount[Loan_Purpose_amount['State']=='WV']\n",
    "Loan_Purpose_amount_DE = Loan_Purpose_amount[Loan_Purpose_amount['State']=='DE']"
   ]
  },
  {
   "cell_type": "code",
   "execution_count": 166,
   "metadata": {
    "collapsed": false
   },
   "outputs": [
    {
     "data": {
      "image/png": "[encoded data removed]",
      "text/plain": [
       "<matplotlib.figure.Figure at 0xb9529b0>"
      ]
     },
     "metadata": {},
     "output_type": "display_data"
    }
   ],
   "source": [
    "# VA\n",
    "sr1=Loan_Purpose_amount_VA['Loan_Amount_000'][Loan_Purpose_amount_VA['Loan_Purpose_Description']=='Purchase']\n",
    "sr2=Loan_Purpose_amount_VA['Loan_Amount_000'][Loan_Purpose_amount_VA['Loan_Purpose_Description']=='Refinance']\n",
    "\n",
    "ind = np.arange(3)   # the x locations for the groups\n",
    "width = 0.4       # the width of the bars: can also be len(x) sequence\n",
    "\n",
    "plt.figure(figsize=(5,4))\n",
    "p1 = plt.bar(ind, sr1, width, color='darkblue', alpha=0.7)\n",
    "p2 = plt.bar(ind, sr2, width, color='darkgreen',bottom=sr1, alpha=0.7)\n",
    "\n",
    "plt.ylabel('Loan Amount in $000s')\n",
    "plt.title('Loan Amount by Purpose in VA')\n",
    "plt.xticks(ind+width/2, ('2012', '2013', '2014'))\n",
    "plt.yticks(np.arange(0, 60000000, 10000000))\n",
    "plt.legend((p1[0], p2[0]), ('Purchase','Refinance'))\n",
    "\n",
    "plt.show()"
   ]
  },
  {
   "cell_type": "code",
   "execution_count": 167,
   "metadata": {
    "collapsed": false
   },
   "outputs": [
    {
     "data": {
      "image/png": "[encoded data removed]",
      "text/plain": [
       "<matplotlib.figure.Figure at 0x11d58da0>"
      ]
     },
     "metadata": {},
     "output_type": "display_data"
    }
   ],
   "source": [
    "# MD\n",
    "sr1=Loan_Purpose_amount_MD['Loan_Amount_000'][Loan_Purpose_amount_MD['Loan_Purpose_Description']=='Purchase']\n",
    "sr2=Loan_Purpose_amount_MD['Loan_Amount_000'][Loan_Purpose_amount_MD['Loan_Purpose_Description']=='Refinance']\n",
    "\n",
    "n=3\n",
    "ind = np.arange(n)   # the x locations for the groups\n",
    "width = 0.4      # the width of the bars: can also be len(x) sequence\n",
    "\n",
    "plt.figure(figsize=(5,4))\n",
    "p1 = plt.bar(ind, sr1, width, color='darkblue', alpha=0.7)\n",
    "p2 = plt.bar(ind, sr2, width, color='darkgreen',bottom=sr1, alpha=0.7)\n",
    "\n",
    "plt.ylabel('Loan Amount in $000s')\n",
    "plt.title('Loan Amount by Purpose in MD')\n",
    "plt.xticks(ind+width/2, ('2012', '2013', '2014'))\n",
    "plt.yticks(np.arange(0, 60000000, 10000000))\n",
    "plt.legend((p1[0], p2[0]), ('Purchase','Refinance'))\n",
    "\n",
    "plt.show()"
   ]
  },
  {
   "cell_type": "code",
   "execution_count": 168,
   "metadata": {
    "collapsed": false
   },
   "outputs": [
    {
     "data": {
      "image/png": "[encoded data removed]",
      "text/plain": [
       "<matplotlib.figure.Figure at 0x847755c0>"
      ]
     },
     "metadata": {},
     "output_type": "display_data"
    }
   ],
   "source": [
    "# DC\n",
    "sr1=Loan_Purpose_amount_DC['Loan_Amount_000'][Loan_Purpose_amount_DC['Loan_Purpose_Description']=='Purchase']\n",
    "sr2=Loan_Purpose_amount_DC['Loan_Amount_000'][Loan_Purpose_amount_DC['Loan_Purpose_Description']=='Refinance']\n",
    "\n",
    "n=3\n",
    "ind = np.arange(n)   # the x locations for the groups\n",
    "width = 0.4      # the width of the bars: can also be len(x) sequence\n",
    "\n",
    "plt.figure(figsize=(5,4))\n",
    "p1 = plt.bar(ind, sr1, width, color='darkblue', alpha=0.7)\n",
    "p2 = plt.bar(ind, sr2, width, color='darkgreen',bottom=sr1, alpha=0.7)\n",
    "\n",
    "plt.ylabel('Loan Amount in $000s')\n",
    "plt.title('Loan Amount by Purpose in DC')\n",
    "plt.xticks(ind+width/2, ('2012', '2013', '2014'))\n",
    "plt.yticks(np.arange(0, 60000000, 10000000))\n",
    "plt.legend((p1[0], p2[0]), ('Purchase','Refinance'))\n",
    "\n",
    "plt.show()"
   ]
  },
  {
   "cell_type": "code",
   "execution_count": 169,
   "metadata": {
    "collapsed": false
   },
   "outputs": [
    {
     "data": {
      "image/png": "[encoded data removed]",
      "text/plain": [
       "<matplotlib.figure.Figure at 0x14caabe0>"
      ]
     },
     "metadata": {},
     "output_type": "display_data"
    }
   ],
   "source": [
    "# WV\n",
    "sr1=Loan_Purpose_amount_WV['Loan_Amount_000'][Loan_Purpose_amount_WV['Loan_Purpose_Description']=='Purchase']\n",
    "sr2=Loan_Purpose_amount_WV['Loan_Amount_000'][Loan_Purpose_amount_WV['Loan_Purpose_Description']=='Refinance']\n",
    "\n",
    "n=3\n",
    "ind = np.arange(n)   # the x locations for the groups\n",
    "width = 0.4      # the width of the bars: can also be len(x) sequence\n",
    "\n",
    "plt.figure(figsize=(5,4))\n",
    "p1 = plt.bar(ind, sr1, width, color='darkblue', alpha=0.7)\n",
    "p2 = plt.bar(ind, sr2, width, color='darkgreen',bottom=sr1, alpha=0.7)\n",
    "\n",
    "plt.ylabel('Loan Amount in $000s')\n",
    "plt.title('Loan Amount by Purpose in WV')\n",
    "plt.xticks(ind+width/2, ('2012', '2013', '2014'))\n",
    "plt.yticks(np.arange(0, 60000000, 10000000))\n",
    "plt.legend((p1[0], p2[0]), ('Purchase','Refinance'))\n",
    "\n",
    "plt.show()"
   ]
  },
  {
   "cell_type": "code",
   "execution_count": 170,
   "metadata": {
    "collapsed": false
   },
   "outputs": [
    {
     "data": {
      "image/png": "[encoded data removed]",
      "text/plain": [
       "<matplotlib.figure.Figure at 0xecb3860>"
      ]
     },
     "metadata": {},
     "output_type": "display_data"
    }
   ],
   "source": [
    "# DE\n",
    "sr1=Loan_Purpose_amount_DE['Loan_Amount_000'][Loan_Purpose_amount_DE['Loan_Purpose_Description']=='Purchase']\n",
    "sr2=Loan_Purpose_amount_DE['Loan_Amount_000'][Loan_Purpose_amount_DE['Loan_Purpose_Description']=='Refinance']\n",
    "\n",
    "n=3\n",
    "ind = np.arange(n)   # the x locations for the groups\n",
    "width = 0.4      # the width of the bars: can also be len(x) sequence\n",
    "\n",
    "plt.figure(figsize=(5,4))\n",
    "p1 = plt.bar(ind, sr1, width, color='darkblue', alpha=0.7)\n",
    "p2 = plt.bar(ind, sr2, width, color='darkgreen',bottom=sr1, alpha=0.7)\n",
    "\n",
    "plt.ylabel('Loan Amount in $000s')\n",
    "plt.title('Loan Amount by Purpose in DE')\n",
    "plt.xticks(ind+width/2, ('2012', '2013', '2014'))\n",
    "plt.yticks(np.arange(0, 60000000, 10000000))\n",
    "plt.legend((p1[0], p2[0]), ('Purchase','Refinance'))\n",
    "\n",
    "plt.show()"
   ]
  },
  {
   "cell_type": "code",
   "execution_count": 29,
   "metadata": {
    "collapsed": false
   },
   "outputs": [
    {
     "name": "stderr",
     "output_type": "stream",
     "text": [
      "C:\\Users\\YG\\Anaconda2\\lib\\site-packages\\ipykernel\\__main__.py:17: SettingWithCopyWarning: \n",
      "A value is trying to be set on a copy of a slice from a DataFrame.\n",
      "Try using .loc[row_indexer,col_indexer] = value instead\n",
      "\n",
      "See the caveats in the documentation: http://pandas.pydata.org/pandas-docs/stable/indexing.html#indexing-view-versus-copy\n",
      "C:\\Users\\YG\\Anaconda2\\lib\\site-packages\\ipykernel\\__main__.py:18: SettingWithCopyWarning: \n",
      "A value is trying to be set on a copy of a slice from a DataFrame.\n",
      "Try using .loc[row_indexer,col_indexer] = value instead\n",
      "\n",
      "See the caveats in the documentation: http://pandas.pydata.org/pandas-docs/stable/indexing.html#indexing-view-versus-copy\n",
      "C:\\Users\\YG\\Anaconda2\\lib\\site-packages\\ipykernel\\__main__.py:19: SettingWithCopyWarning: \n",
      "A value is trying to be set on a copy of a slice from a DataFrame.\n",
      "Try using .loc[row_indexer,col_indexer] = value instead\n",
      "\n",
      "See the caveats in the documentation: http://pandas.pydata.org/pandas-docs/stable/indexing.html#indexing-view-versus-copy\n"
     ]
    }
   ],
   "source": [
    "##############################################\n",
    "# Top lenders / Main competitors\n",
    "##############################################\n",
    "# Loan amount sum by Respondent_Name_TS\n",
    "loan_amount_institution = df_hmda_conv_conf.groupby(by=['Respondent_Name_TS','As_of_Year'])['Loan_Amount_000'].sum().sort_values(ascending=False)\n",
    "\n",
    "# series into dataframe\n",
    "df_loan_amount = pd.DataFrame(data=loan_amount_institution,index=None,columns=['Loan_Amount_000'])\n",
    "df_loan_amount.reset_index(inplace=True)\n",
    "df_loan_amount.head()\n",
    "\n",
    "# seperate the data by year\n",
    "df_loan_amount_2012 = df_loan_amount[df_loan_amount['As_of_Year']==2012]\n",
    "df_loan_amount_2013 = df_loan_amount[df_loan_amount['As_of_Year']==2013]\n",
    "df_loan_amount_2014 = df_loan_amount[df_loan_amount['As_of_Year']==2014]\n",
    "\n",
    "df_loan_amount_2012['Loan_Amount_pct'] = (df_loan_amount_2012['Loan_Amount_000'] *100 / df_loan_amount_2012['Loan_Amount_000'].astype(int).sum()).round(2)\n",
    "df_loan_amount_2013['Loan_Amount_pct'] = (df_loan_amount_2013['Loan_Amount_000'] *100 / df_loan_amount_2013['Loan_Amount_000'].astype(int).sum()).round(2)\n",
    "df_loan_amount_2014['Loan_Amount_pct'] = (df_loan_amount_2014['Loan_Amount_000'] *100 / df_loan_amount_2014['Loan_Amount_000'].astype(int).sum()).round(2)"
   ]
  },
  {
   "cell_type": "code",
   "execution_count": 155,
   "metadata": {
    "collapsed": false
   },
   "outputs": [
    {
     "data": {
      "text/html": [
       "<div>\n",
       "<table border=\"1\" class=\"dataframe\">\n",
       "  <thead>\n",
       "    <tr style=\"text-align: right;\">\n",
       "      <th></th>\n",
       "      <th>Respondent_Name_TS</th>\n",
       "      <th>As_of_Year</th>\n",
       "      <th>Loan_Amount_000</th>\n",
       "      <th>Loan_Amount_pct</th>\n",
       "    </tr>\n",
       "  </thead>\n",
       "  <tbody>\n",
       "    <tr>\n",
       "      <th>0</th>\n",
       "      <td>WELLS FARGO BANK, NA</td>\n",
       "      <td>2012</td>\n",
       "      <td>10548891</td>\n",
       "      <td>11.20</td>\n",
       "    </tr>\n",
       "    <tr>\n",
       "      <th>3</th>\n",
       "      <td>QUICKEN LOANS</td>\n",
       "      <td>2012</td>\n",
       "      <td>4235785</td>\n",
       "      <td>4.50</td>\n",
       "    </tr>\n",
       "    <tr>\n",
       "      <th>4</th>\n",
       "      <td>SUNTRUST MORTGAGE, INC</td>\n",
       "      <td>2012</td>\n",
       "      <td>4051988</td>\n",
       "      <td>4.30</td>\n",
       "    </tr>\n",
       "    <tr>\n",
       "      <th>5</th>\n",
       "      <td>JPMORGAN CHASE BANK, NA</td>\n",
       "      <td>2012</td>\n",
       "      <td>3653454</td>\n",
       "      <td>3.88</td>\n",
       "    </tr>\n",
       "    <tr>\n",
       "      <th>7</th>\n",
       "      <td>BRANCH BANKING AND TRUST CO</td>\n",
       "      <td>2012</td>\n",
       "      <td>3449506</td>\n",
       "      <td>3.66</td>\n",
       "    </tr>\n",
       "    <tr>\n",
       "      <th>9</th>\n",
       "      <td>BANK OF AMERICA, N.A.</td>\n",
       "      <td>2012</td>\n",
       "      <td>3372348</td>\n",
       "      <td>3.58</td>\n",
       "    </tr>\n",
       "    <tr>\n",
       "      <th>12</th>\n",
       "      <td>GEORGE MASON MORTGAGE LLC</td>\n",
       "      <td>2012</td>\n",
       "      <td>2412392</td>\n",
       "      <td>2.56</td>\n",
       "    </tr>\n",
       "    <tr>\n",
       "      <th>16</th>\n",
       "      <td>NFCU</td>\n",
       "      <td>2012</td>\n",
       "      <td>1841499</td>\n",
       "      <td>1.95</td>\n",
       "    </tr>\n",
       "    <tr>\n",
       "      <th>18</th>\n",
       "      <td>FIRST SAVINGS MORTGAGE CORPORA</td>\n",
       "      <td>2012</td>\n",
       "      <td>1785204</td>\n",
       "      <td>1.89</td>\n",
       "    </tr>\n",
       "    <tr>\n",
       "      <th>20</th>\n",
       "      <td>CITIBANK, N.A.</td>\n",
       "      <td>2012</td>\n",
       "      <td>1638267</td>\n",
       "      <td>1.74</td>\n",
       "    </tr>\n",
       "  </tbody>\n",
       "</table>\n",
       "</div>"
      ],
      "text/plain": [
       "                Respondent_Name_TS  As_of_Year  Loan_Amount_000  \\\n",
       "0             WELLS FARGO BANK, NA        2012         10548891   \n",
       "3                    QUICKEN LOANS        2012          4235785   \n",
       "4           SUNTRUST MORTGAGE, INC        2012          4051988   \n",
       "5          JPMORGAN CHASE BANK, NA        2012          3653454   \n",
       "7      BRANCH BANKING AND TRUST CO        2012          3449506   \n",
       "9            BANK OF AMERICA, N.A.        2012          3372348   \n",
       "12       GEORGE MASON MORTGAGE LLC        2012          2412392   \n",
       "16                            NFCU        2012          1841499   \n",
       "18  FIRST SAVINGS MORTGAGE CORPORA        2012          1785204   \n",
       "20                  CITIBANK, N.A.        2012          1638267   \n",
       "\n",
       "    Loan_Amount_pct  \n",
       "0             11.20  \n",
       "3              4.50  \n",
       "4              4.30  \n",
       "5              3.88  \n",
       "7              3.66  \n",
       "9              3.58  \n",
       "12             2.56  \n",
       "16             1.95  \n",
       "18             1.89  \n",
       "20             1.74  "
      ]
     },
     "execution_count": 155,
     "metadata": {},
     "output_type": "execute_result"
    }
   ],
   "source": [
    "# the market share of the top 10 lenders\n",
    "df_loan_amount_2012.head(10)"
   ]
  },
  {
   "cell_type": "code",
   "execution_count": 156,
   "metadata": {
    "collapsed": false
   },
   "outputs": [
    {
     "data": {
      "text/plain": [
       "<matplotlib.text.Text at 0x9568f60>"
      ]
     },
     "execution_count": 156,
     "metadata": {},
     "output_type": "execute_result"
    },
    {
     "data": {
      "image/png": "[encoded data removed]",
      "text/plain": [
       "<matplotlib.figure.Figure at 0xb97d080>"
      ]
     },
     "metadata": {},
     "output_type": "display_data"
    }
   ],
   "source": [
    "# 2012 top 10 lenders\n",
    "fig = sns.barplot(x='Loan_Amount_pct', y='Respondent_Name_TS', \n",
    "                  data=df_loan_amount_2012.iloc[:10,:],\n",
    "                 palette='Blues_d')\n",
    "fig.set_title('2012 Top Lenders')\n",
    "fig.set_xlim([0,12])\n",
    "fig.set_ylabel('Institute')\n",
    "fig.set_xlabel('Market Share')"
   ]
  },
  {
   "cell_type": "code",
   "execution_count": 157,
   "metadata": {
    "collapsed": false
   },
   "outputs": [
    {
     "data": {
      "text/html": [
       "<div>\n",
       "<table border=\"1\" class=\"dataframe\">\n",
       "  <thead>\n",
       "    <tr style=\"text-align: right;\">\n",
       "      <th></th>\n",
       "      <th>Respondent_Name_TS</th>\n",
       "      <th>As_of_Year</th>\n",
       "      <th>Loan_Amount_000</th>\n",
       "      <th>Loan_Amount_pct</th>\n",
       "    </tr>\n",
       "  </thead>\n",
       "  <tbody>\n",
       "    <tr>\n",
       "      <th>1</th>\n",
       "      <td>WELLS FARGO BANK, NA</td>\n",
       "      <td>2013</td>\n",
       "      <td>7866132</td>\n",
       "      <td>10.37</td>\n",
       "    </tr>\n",
       "    <tr>\n",
       "      <th>2</th>\n",
       "      <td>QUICKEN LOANS</td>\n",
       "      <td>2013</td>\n",
       "      <td>4251987</td>\n",
       "      <td>5.60</td>\n",
       "    </tr>\n",
       "    <tr>\n",
       "      <th>6</th>\n",
       "      <td>BANK OF AMERICA, N.A.</td>\n",
       "      <td>2013</td>\n",
       "      <td>3518829</td>\n",
       "      <td>4.64</td>\n",
       "    </tr>\n",
       "    <tr>\n",
       "      <th>8</th>\n",
       "      <td>SUNTRUST MORTGAGE, INC</td>\n",
       "      <td>2013</td>\n",
       "      <td>3377689</td>\n",
       "      <td>4.45</td>\n",
       "    </tr>\n",
       "    <tr>\n",
       "      <th>13</th>\n",
       "      <td>BRANCH BANKING AND TRUST CO</td>\n",
       "      <td>2013</td>\n",
       "      <td>2317105</td>\n",
       "      <td>3.05</td>\n",
       "    </tr>\n",
       "    <tr>\n",
       "      <th>14</th>\n",
       "      <td>JPMORGAN CHASE BANK, NA</td>\n",
       "      <td>2013</td>\n",
       "      <td>2312064</td>\n",
       "      <td>3.05</td>\n",
       "    </tr>\n",
       "    <tr>\n",
       "      <th>15</th>\n",
       "      <td>GEORGE MASON MORTGAGE LLC</td>\n",
       "      <td>2013</td>\n",
       "      <td>2079451</td>\n",
       "      <td>2.74</td>\n",
       "    </tr>\n",
       "    <tr>\n",
       "      <th>17</th>\n",
       "      <td>CITIBANK, N.A.</td>\n",
       "      <td>2013</td>\n",
       "      <td>1786102</td>\n",
       "      <td>2.35</td>\n",
       "    </tr>\n",
       "    <tr>\n",
       "      <th>19</th>\n",
       "      <td>NFCU</td>\n",
       "      <td>2013</td>\n",
       "      <td>1701429</td>\n",
       "      <td>2.24</td>\n",
       "    </tr>\n",
       "    <tr>\n",
       "      <th>21</th>\n",
       "      <td>PNC BANK N.A.</td>\n",
       "      <td>2013</td>\n",
       "      <td>1624080</td>\n",
       "      <td>2.14</td>\n",
       "    </tr>\n",
       "  </tbody>\n",
       "</table>\n",
       "</div>"
      ],
      "text/plain": [
       "             Respondent_Name_TS  As_of_Year  Loan_Amount_000  Loan_Amount_pct\n",
       "1          WELLS FARGO BANK, NA        2013          7866132            10.37\n",
       "2                 QUICKEN LOANS        2013          4251987             5.60\n",
       "6         BANK OF AMERICA, N.A.        2013          3518829             4.64\n",
       "8        SUNTRUST MORTGAGE, INC        2013          3377689             4.45\n",
       "13  BRANCH BANKING AND TRUST CO        2013          2317105             3.05\n",
       "14      JPMORGAN CHASE BANK, NA        2013          2312064             3.05\n",
       "15    GEORGE MASON MORTGAGE LLC        2013          2079451             2.74\n",
       "17               CITIBANK, N.A.        2013          1786102             2.35\n",
       "19                         NFCU        2013          1701429             2.24\n",
       "21                PNC BANK N.A.        2013          1624080             2.14"
      ]
     },
     "execution_count": 157,
     "metadata": {},
     "output_type": "execute_result"
    }
   ],
   "source": [
    "# the market share of the top 10 lenders\n",
    "df_loan_amount_2013.head(10)"
   ]
  },
  {
   "cell_type": "code",
   "execution_count": 353,
   "metadata": {
    "collapsed": false
   },
   "outputs": [
    {
     "data": {
      "text/plain": [
       "<matplotlib.text.Text at 0x375e4e10>"
      ]
     },
     "execution_count": 353,
     "metadata": {},
     "output_type": "execute_result"
    },
    {
     "data": {
      "image/png": "[encoded data removed]",
      "text/plain": [
       "<matplotlib.figure.Figure at 0x1fec67f0>"
      ]
     },
     "metadata": {},
     "output_type": "display_data"
    }
   ],
   "source": [
    "# 2013 top 10 lenders\n",
    "fig = sns.barplot(x='Loan_Amount_pct', y='Respondent_Name_TS', \n",
    "                  data=df_loan_amount_2013.iloc[:10,:],\n",
    "                 palette='Blues_d')\n",
    "fig.set_title('2013 Top Lenders')\n",
    "fig.set_xlim([0,12])\n",
    "fig.set_ylabel('Institute')\n",
    "fig.set_xlabel('Market Share')"
   ]
  },
  {
   "cell_type": "code",
   "execution_count": 158,
   "metadata": {
    "collapsed": false
   },
   "outputs": [
    {
     "data": {
      "text/html": [
       "<div>\n",
       "<table border=\"1\" class=\"dataframe\">\n",
       "  <thead>\n",
       "    <tr style=\"text-align: right;\">\n",
       "      <th></th>\n",
       "      <th>Respondent_Name_TS</th>\n",
       "      <th>As_of_Year</th>\n",
       "      <th>Loan_Amount_000</th>\n",
       "      <th>Loan_Amount_pct</th>\n",
       "    </tr>\n",
       "  </thead>\n",
       "  <tbody>\n",
       "    <tr>\n",
       "      <th>10</th>\n",
       "      <td>WELLS FARGO BANK, NA</td>\n",
       "      <td>2014</td>\n",
       "      <td>3150246</td>\n",
       "      <td>7.24</td>\n",
       "    </tr>\n",
       "    <tr>\n",
       "      <th>11</th>\n",
       "      <td>QUICKEN LOANS</td>\n",
       "      <td>2014</td>\n",
       "      <td>2736441</td>\n",
       "      <td>6.29</td>\n",
       "    </tr>\n",
       "    <tr>\n",
       "      <th>24</th>\n",
       "      <td>BANK OF AMERICA, N.A.</td>\n",
       "      <td>2014</td>\n",
       "      <td>1515575</td>\n",
       "      <td>3.48</td>\n",
       "    </tr>\n",
       "    <tr>\n",
       "      <th>25</th>\n",
       "      <td>SUNTRUST MORTGAGE, INC</td>\n",
       "      <td>2014</td>\n",
       "      <td>1489043</td>\n",
       "      <td>3.42</td>\n",
       "    </tr>\n",
       "    <tr>\n",
       "      <th>27</th>\n",
       "      <td>GEORGE MASON MORTGAGE LLC</td>\n",
       "      <td>2014</td>\n",
       "      <td>1380017</td>\n",
       "      <td>3.17</td>\n",
       "    </tr>\n",
       "    <tr>\n",
       "      <th>34</th>\n",
       "      <td>FIRST HOME MORTGAGE</td>\n",
       "      <td>2014</td>\n",
       "      <td>1135155</td>\n",
       "      <td>2.61</td>\n",
       "    </tr>\n",
       "    <tr>\n",
       "      <th>38</th>\n",
       "      <td>NFCU</td>\n",
       "      <td>2014</td>\n",
       "      <td>1081309</td>\n",
       "      <td>2.49</td>\n",
       "    </tr>\n",
       "    <tr>\n",
       "      <th>40</th>\n",
       "      <td>BRANCH BANKING AND TRUST CO</td>\n",
       "      <td>2014</td>\n",
       "      <td>988260</td>\n",
       "      <td>2.27</td>\n",
       "    </tr>\n",
       "    <tr>\n",
       "      <th>42</th>\n",
       "      <td>PROSPERITY HOME MORTGAGE, LLC</td>\n",
       "      <td>2014</td>\n",
       "      <td>872117</td>\n",
       "      <td>2.00</td>\n",
       "    </tr>\n",
       "    <tr>\n",
       "      <th>43</th>\n",
       "      <td>PNC BANK N.A.</td>\n",
       "      <td>2014</td>\n",
       "      <td>871138</td>\n",
       "      <td>2.00</td>\n",
       "    </tr>\n",
       "  </tbody>\n",
       "</table>\n",
       "</div>"
      ],
      "text/plain": [
       "               Respondent_Name_TS  As_of_Year  Loan_Amount_000  \\\n",
       "10           WELLS FARGO BANK, NA        2014          3150246   \n",
       "11                  QUICKEN LOANS        2014          2736441   \n",
       "24          BANK OF AMERICA, N.A.        2014          1515575   \n",
       "25         SUNTRUST MORTGAGE, INC        2014          1489043   \n",
       "27      GEORGE MASON MORTGAGE LLC        2014          1380017   \n",
       "34            FIRST HOME MORTGAGE        2014          1135155   \n",
       "38                           NFCU        2014          1081309   \n",
       "40    BRANCH BANKING AND TRUST CO        2014           988260   \n",
       "42  PROSPERITY HOME MORTGAGE, LLC        2014           872117   \n",
       "43                  PNC BANK N.A.        2014           871138   \n",
       "\n",
       "    Loan_Amount_pct  \n",
       "10             7.24  \n",
       "11             6.29  \n",
       "24             3.48  \n",
       "25             3.42  \n",
       "27             3.17  \n",
       "34             2.61  \n",
       "38             2.49  \n",
       "40             2.27  \n",
       "42             2.00  \n",
       "43             2.00  "
      ]
     },
     "execution_count": 158,
     "metadata": {},
     "output_type": "execute_result"
    }
   ],
   "source": [
    "# the market share of the top 10 lenders\n",
    "df_loan_amount_2014.head(10)"
   ]
  },
  {
   "cell_type": "code",
   "execution_count": 159,
   "metadata": {
    "collapsed": false
   },
   "outputs": [
    {
     "data": {
      "text/plain": [
       "<matplotlib.text.Text at 0xc015400>"
      ]
     },
     "execution_count": 159,
     "metadata": {},
     "output_type": "execute_result"
    },
    {
     "data": {
      "image/png": "[encoded data removed]",
      "text/plain": [
       "<matplotlib.figure.Figure at 0x8f33940>"
      ]
     },
     "metadata": {},
     "output_type": "display_data"
    }
   ],
   "source": [
    "# 2014 top 10 lenders\n",
    "fig = sns.barplot(x='Loan_Amount_pct', y='Respondent_Name_TS', \n",
    "                  data=df_loan_amount_2014.iloc[:10,:],\n",
    "                 palette='Blues_d')\n",
    "fig.set_title('2014 Top Lenders')\n",
    "fig.set_xlim([0,12])\n",
    "fig.set_ylabel('Institute')\n",
    "fig.set_xlabel('Market Share')"
   ]
  },
  {
   "cell_type": "code",
   "execution_count": 160,
   "metadata": {
    "collapsed": true
   },
   "outputs": [],
   "source": [
    "####################################################################\n",
    "# How competitive the market it, Herfindahl-Hirschman Index HHI\n",
    "####################################################################\n",
    "        \n",
    "def hhi(vector):\n",
    "    \"\"\" \n",
    "    Calculate the Hirschman-Herfindahl index\n",
    "    \n",
    "    param \n",
    "    -------\n",
    "    vector: Positive vector\n",
    "    \n",
    "    return: HHI (Float)\n",
    "    \"\"\"\n",
    "    return np.square(vector).sum()"
   ]
  },
  {
   "cell_type": "code",
   "execution_count": 161,
   "metadata": {
    "collapsed": false
   },
   "outputs": [
    {
     "data": {
      "text/plain": [
       "258.7877999999977"
      ]
     },
     "execution_count": 161,
     "metadata": {},
     "output_type": "execute_result"
    }
   ],
   "source": [
    "hhi_2012 = hhi(df_loan_amount_2012['Loan_Amount_pct'])"
   ]
  },
  {
   "cell_type": "code",
   "execution_count": 162,
   "metadata": {
    "collapsed": false
   },
   "outputs": [
    {
     "data": {
      "text/plain": [
       "253.62870000000115"
      ]
     },
     "execution_count": 162,
     "metadata": {},
     "output_type": "execute_result"
    }
   ],
   "source": [
    "hhi_2013 = hhi(df_loan_amount_2013['Loan_Amount_pct'])"
   ]
  },
  {
   "cell_type": "code",
   "execution_count": 163,
   "metadata": {
    "collapsed": false
   },
   "outputs": [
    {
     "data": {
      "text/plain": [
       "190.6449000000014"
      ]
     },
     "execution_count": 163,
     "metadata": {},
     "output_type": "execute_result"
    }
   ],
   "source": [
    "hhi_2014 = hhi(df_loan_amount_2014['Loan_Amount_pct'])"
   ]
  },
  {
   "cell_type": "code",
   "execution_count": null,
   "metadata": {
    "collapsed": true
   },
   "outputs": [],
   "source": [
    "# An H below 0.01 (or 100) indicates a highly competitive industry.\n",
    "# An H below 0.15 (or 1,500) indicates an unconcentrated industry.\n",
    "# An H between 0.15 to 0.25 (or 1,500 to 2,500) indicates moderate concentration.\n",
    "# An H above 0.25 (above 2,500) indicates high concentration.[5]\n",
    "# Reference: https://en.wikipedia.org/wiki/Herfindahl_index\n",
    "\n",
    "# HHI of the convenional mortgage market during the three years were all \n",
    "# in [100,1500]. It was unconcentrated market."
   ]
  },
  {
   "cell_type": "code",
   "execution_count": null,
   "metadata": {
    "collapsed": true
   },
   "outputs": [],
   "source": [
    "##################################################################\n",
    "# Cluster the applicant\n",
    "##################################################################\n",
    "# K Means clusters, an unsupervised machine learning algorithm. \n",
    "# Identify clusters of lending patterns\n",
    "\n",
    "# Only the conventional conforming loans data were considered.\n",
    "# The lending patterns that of interests are:\n",
    "\n",
    "# numeric:\n",
    "# ---------\n",
    "# Applicant_Income_000\n",
    "# FFIEC_Median_Family_Income\n",
    "# Loan_Amount_000\n",
    "# Number_of_Owner_Occupied_Units\n",
    "# Tract_to_MSA_MD_Income_Pct\n",
    "# Conforming_Limit_000\n",
    "# Loan_Amount_Bucket\n",
    "# Loan_to_income\n",
    "\n",
    "# categorical:\n",
    "# ------------\n",
    "# Loan_Purpose_Description\n",
    "# Lien_Status_Description"
   ]
  },
  {
   "cell_type": "code",
   "execution_count": 205,
   "metadata": {
    "collapsed": false
   },
   "outputs": [],
   "source": [
    "from sklearn.cluster import KMeans"
   ]
  },
  {
   "cell_type": "code",
   "execution_count": 83,
   "metadata": {
    "collapsed": false
   },
   "outputs": [
    {
     "name": "stdout",
     "output_type": "stream",
     "text": [
      "<class 'pandas.core.frame.DataFrame'>\n",
      "Int64Index: 879453 entries, 0 to 1320851\n",
      "Data columns (total 12 columns):\n",
      "Applicant_Income_000              869602 non-null float64\n",
      "FFIEC_Median_Family_Income        878841 non-null float64\n",
      "Loan_Amount_000                   879453 non-null int64\n",
      "Number_of_Owner_Occupied_Units    878703 non-null float64\n",
      "Tract_to_MSA_MD_Income_Pct        878720 non-null float64\n",
      "Conforming_Limit_000              879453 non-null float64\n",
      "Loan_Amount_Bucket                879453 non-null float64\n",
      "Loan_to_income                    869602 non-null float64\n",
      "Loan_Purpose_Description          879453 non-null object\n",
      "Lien_Status_Description           879453 non-null object\n",
      "State                             879453 non-null object\n",
      "As_of_Year                        879453 non-null int64\n",
      "dtypes: float64(7), int64(2), object(3)\n",
      "memory usage: 87.2+ MB\n"
     ]
    }
   ],
   "source": [
    "# subset the data with only variables of interest\n",
    "df_model = df_hmda_conv_conf[['Applicant_Income_000', 'FFIEC_Median_Family_Income','Loan_Amount_000',\n",
    "                             'Number_of_Owner_Occupied_Units','Tract_to_MSA_MD_Income_Pct','Conforming_Limit_000',\n",
    "                             'Loan_Amount_Bucket','Loan_to_income','Loan_Purpose_Description','Lien_Status_Description',\n",
    "                            'State','As_of_Year']]\n",
    "df_model.info()"
   ]
  },
  {
   "cell_type": "code",
   "execution_count": 84,
   "metadata": {
    "collapsed": false
   },
   "outputs": [
    {
     "data": {
      "text/plain": [
       "Loan_to_income                    0.011201\n",
       "Applicant_Income_000              0.011201\n",
       "Number_of_Owner_Occupied_Units    0.000853\n",
       "Tract_to_MSA_MD_Income_Pct        0.000833\n",
       "FFIEC_Median_Family_Income        0.000696\n",
       "As_of_Year                        0.000000\n",
       "State                             0.000000\n",
       "Lien_Status_Description           0.000000\n",
       "Loan_Purpose_Description          0.000000\n",
       "Loan_Amount_Bucket                0.000000\n",
       "Conforming_Limit_000              0.000000\n",
       "Loan_Amount_000                   0.000000\n",
       "dtype: float64"
      ]
     },
     "execution_count": 84,
     "metadata": {},
     "output_type": "execute_result"
    }
   ],
   "source": [
    "# count the missing values\n",
    "sr = df_model.isnull().sum()/879453 #total number of entries 879453\n",
    "sr.sort_values(ascending=False)"
   ]
  },
  {
   "cell_type": "code",
   "execution_count": 85,
   "metadata": {
    "collapsed": false
   },
   "outputs": [
    {
     "name": "stdout",
     "output_type": "stream",
     "text": [
      "<class 'pandas.core.frame.DataFrame'>\n",
      "Int64Index: 868848 entries, 0 to 1320851\n",
      "Data columns (total 12 columns):\n",
      "Applicant_Income_000              868848 non-null float64\n",
      "FFIEC_Median_Family_Income        868848 non-null float64\n",
      "Loan_Amount_000                   868848 non-null int64\n",
      "Number_of_Owner_Occupied_Units    868848 non-null float64\n",
      "Tract_to_MSA_MD_Income_Pct        868848 non-null float64\n",
      "Conforming_Limit_000              868848 non-null float64\n",
      "Loan_Amount_Bucket                868848 non-null float64\n",
      "Loan_to_income                    868848 non-null float64\n",
      "Loan_Purpose_Description          868848 non-null object\n",
      "Lien_Status_Description           868848 non-null object\n",
      "State                             868848 non-null object\n",
      "As_of_Year                        868848 non-null int64\n",
      "dtypes: float64(7), int64(2), object(3)\n",
      "memory usage: 86.2+ MB\n"
     ]
    }
   ],
   "source": [
    "# drop missing values\n",
    "df_model1=df_model.dropna()\n",
    "df_model1.info()\n",
    "# 868848 entries"
   ]
  },
  {
   "cell_type": "code",
   "execution_count": 86,
   "metadata": {
    "collapsed": false
   },
   "outputs": [
    {
     "name": "stderr",
     "output_type": "stream",
     "text": [
      "C:\\Users\\YG\\Anaconda2\\lib\\site-packages\\ipykernel\\__main__.py:4: SettingWithCopyWarning: \n",
      "A value is trying to be set on a copy of a slice from a DataFrame\n",
      "\n",
      "See the caveats in the documentation: http://pandas.pydata.org/pandas-docs/stable/indexing.html#indexing-view-versus-copy\n"
     ]
    },
    {
     "data": {
      "text/html": [
       "<div>\n",
       "<table border=\"1\" class=\"dataframe\">\n",
       "  <thead>\n",
       "    <tr style=\"text-align: right;\">\n",
       "      <th></th>\n",
       "      <th>Applicant_Income_000</th>\n",
       "      <th>FFIEC_Median_Family_Income</th>\n",
       "      <th>Loan_Amount_000</th>\n",
       "      <th>Number_of_Owner_Occupied_Units</th>\n",
       "      <th>Tract_to_MSA_MD_Income_Pct</th>\n",
       "      <th>Conforming_Limit_000</th>\n",
       "      <th>Loan_Amount_Bucket</th>\n",
       "      <th>Loan_to_income</th>\n",
       "      <th>State</th>\n",
       "      <th>As_of_Year</th>\n",
       "      <th>Loan_Purpose_Refinance</th>\n",
       "      <th>Lien_Subordinate Lien</th>\n",
       "    </tr>\n",
       "  </thead>\n",
       "  <tbody>\n",
       "    <tr>\n",
       "      <th>0</th>\n",
       "      <td>84.0</td>\n",
       "      <td>54900.0</td>\n",
       "      <td>94</td>\n",
       "      <td>1545.0</td>\n",
       "      <td>93.07</td>\n",
       "      <td>417.0</td>\n",
       "      <td>1.0</td>\n",
       "      <td>1.119048</td>\n",
       "      <td>WV</td>\n",
       "      <td>2012</td>\n",
       "      <td>1.0</td>\n",
       "      <td>0.0</td>\n",
       "    </tr>\n",
       "    <tr>\n",
       "      <th>1</th>\n",
       "      <td>84.0</td>\n",
       "      <td>54900.0</td>\n",
       "      <td>133</td>\n",
       "      <td>1548.0</td>\n",
       "      <td>58.00</td>\n",
       "      <td>417.0</td>\n",
       "      <td>2.0</td>\n",
       "      <td>1.583333</td>\n",
       "      <td>WV</td>\n",
       "      <td>2012</td>\n",
       "      <td>1.0</td>\n",
       "      <td>0.0</td>\n",
       "    </tr>\n",
       "    <tr>\n",
       "      <th>2</th>\n",
       "      <td>53.0</td>\n",
       "      <td>54900.0</td>\n",
       "      <td>70</td>\n",
       "      <td>1548.0</td>\n",
       "      <td>58.00</td>\n",
       "      <td>417.0</td>\n",
       "      <td>1.0</td>\n",
       "      <td>1.320755</td>\n",
       "      <td>WV</td>\n",
       "      <td>2012</td>\n",
       "      <td>1.0</td>\n",
       "      <td>0.0</td>\n",
       "    </tr>\n",
       "    <tr>\n",
       "      <th>3</th>\n",
       "      <td>85.0</td>\n",
       "      <td>54900.0</td>\n",
       "      <td>102</td>\n",
       "      <td>1935.0</td>\n",
       "      <td>145.21</td>\n",
       "      <td>417.0</td>\n",
       "      <td>2.0</td>\n",
       "      <td>1.200000</td>\n",
       "      <td>WV</td>\n",
       "      <td>2012</td>\n",
       "      <td>1.0</td>\n",
       "      <td>0.0</td>\n",
       "    </tr>\n",
       "    <tr>\n",
       "      <th>4</th>\n",
       "      <td>38.0</td>\n",
       "      <td>54900.0</td>\n",
       "      <td>112</td>\n",
       "      <td>1492.0</td>\n",
       "      <td>127.96</td>\n",
       "      <td>417.0</td>\n",
       "      <td>2.0</td>\n",
       "      <td>2.947368</td>\n",
       "      <td>WV</td>\n",
       "      <td>2012</td>\n",
       "      <td>0.0</td>\n",
       "      <td>0.0</td>\n",
       "    </tr>\n",
       "  </tbody>\n",
       "</table>\n",
       "</div>"
      ],
      "text/plain": [
       "   Applicant_Income_000  FFIEC_Median_Family_Income  Loan_Amount_000  \\\n",
       "0                  84.0                     54900.0               94   \n",
       "1                  84.0                     54900.0              133   \n",
       "2                  53.0                     54900.0               70   \n",
       "3                  85.0                     54900.0              102   \n",
       "4                  38.0                     54900.0              112   \n",
       "\n",
       "   Number_of_Owner_Occupied_Units  Tract_to_MSA_MD_Income_Pct  \\\n",
       "0                          1545.0                       93.07   \n",
       "1                          1548.0                       58.00   \n",
       "2                          1548.0                       58.00   \n",
       "3                          1935.0                      145.21   \n",
       "4                          1492.0                      127.96   \n",
       "\n",
       "   Conforming_Limit_000  Loan_Amount_Bucket  Loan_to_income State  As_of_Year  \\\n",
       "0                 417.0                 1.0        1.119048    WV        2012   \n",
       "1                 417.0                 2.0        1.583333    WV        2012   \n",
       "2                 417.0                 1.0        1.320755    WV        2012   \n",
       "3                 417.0                 2.0        1.200000    WV        2012   \n",
       "4                 417.0                 2.0        2.947368    WV        2012   \n",
       "\n",
       "   Loan_Purpose_Refinance  Lien_Subordinate Lien  \n",
       "0                     1.0                    0.0  \n",
       "1                     1.0                    0.0  \n",
       "2                     1.0                    0.0  \n",
       "3                     1.0                    0.0  \n",
       "4                     0.0                    0.0  "
      ]
     },
     "execution_count": 86,
     "metadata": {},
     "output_type": "execute_result"
    }
   ],
   "source": [
    "# convert categorical variable into dummy variables\n",
    "a1 = pd.get_dummies(df_model1['Loan_Purpose_Description'],prefix='Loan_Purpose',drop_first=True)\n",
    "a2 = pd.get_dummies(df_model1['Lien_Status_Description'],prefix='Lien',drop_first=True)\n",
    "df_model1.drop(['Loan_Purpose_Description','Lien_Status_Description'],axis=1,inplace=True)\n",
    "df_model2 = pd.concat([df_model1,a1,a2],axis=1)\n",
    "df_model2.head()"
   ]
  },
  {
   "cell_type": "code",
   "execution_count": 79,
   "metadata": {
    "collapsed": false
   },
   "outputs": [
    {
     "data": {
      "text/html": [
       "<div>\n",
       "<table border=\"1\" class=\"dataframe\">\n",
       "  <thead>\n",
       "    <tr style=\"text-align: right;\">\n",
       "      <th></th>\n",
       "      <th>Applicant_Income_000</th>\n",
       "      <th>FFIEC_Median_Family_Income</th>\n",
       "      <th>Loan_Amount_000</th>\n",
       "      <th>Number_of_Owner_Occupied_Units</th>\n",
       "      <th>Tract_to_MSA_MD_Income_Pct</th>\n",
       "      <th>Conforming_Limit_000</th>\n",
       "      <th>Loan_Amount_Bucket</th>\n",
       "      <th>Loan_to_income</th>\n",
       "      <th>As_of_Year</th>\n",
       "      <th>Loan_Purpose__Refinance</th>\n",
       "      <th>Lien__Subordinate Lien</th>\n",
       "    </tr>\n",
       "  </thead>\n",
       "  <tbody>\n",
       "    <tr>\n",
       "      <th>Applicant_Income_000</th>\n",
       "      <td>1.000000</td>\n",
       "      <td>0.221446</td>\n",
       "      <td>0.437320</td>\n",
       "      <td>0.000032</td>\n",
       "      <td>0.278256</td>\n",
       "      <td>0.210883</td>\n",
       "      <td>0.427748</td>\n",
       "      <td>-0.372314</td>\n",
       "      <td>-0.051245</td>\n",
       "      <td>0.031655</td>\n",
       "      <td>0.013059</td>\n",
       "    </tr>\n",
       "    <tr>\n",
       "      <th>FFIEC_Median_Family_Income</th>\n",
       "      <td>0.221446</td>\n",
       "      <td>1.000000</td>\n",
       "      <td>0.450914</td>\n",
       "      <td>-0.181458</td>\n",
       "      <td>0.033893</td>\n",
       "      <td>0.930114</td>\n",
       "      <td>0.439952</td>\n",
       "      <td>0.140369</td>\n",
       "      <td>-0.045054</td>\n",
       "      <td>0.023806</td>\n",
       "      <td>-0.027201</td>\n",
       "    </tr>\n",
       "    <tr>\n",
       "      <th>Loan_Amount_000</th>\n",
       "      <td>0.437320</td>\n",
       "      <td>0.450914</td>\n",
       "      <td>1.000000</td>\n",
       "      <td>-0.023436</td>\n",
       "      <td>0.348828</td>\n",
       "      <td>0.427409</td>\n",
       "      <td>0.974794</td>\n",
       "      <td>0.331509</td>\n",
       "      <td>-0.016106</td>\n",
       "      <td>-0.106720</td>\n",
       "      <td>-0.213176</td>\n",
       "    </tr>\n",
       "    <tr>\n",
       "      <th>Number_of_Owner_Occupied_Units</th>\n",
       "      <td>0.000032</td>\n",
       "      <td>-0.181458</td>\n",
       "      <td>-0.023436</td>\n",
       "      <td>1.000000</td>\n",
       "      <td>0.262901</td>\n",
       "      <td>-0.202151</td>\n",
       "      <td>-0.022963</td>\n",
       "      <td>-0.019869</td>\n",
       "      <td>-0.019009</td>\n",
       "      <td>0.036766</td>\n",
       "      <td>-0.006207</td>\n",
       "    </tr>\n",
       "    <tr>\n",
       "      <th>Tract_to_MSA_MD_Income_Pct</th>\n",
       "      <td>0.278256</td>\n",
       "      <td>0.033893</td>\n",
       "      <td>0.348828</td>\n",
       "      <td>0.262901</td>\n",
       "      <td>1.000000</td>\n",
       "      <td>0.037052</td>\n",
       "      <td>0.340662</td>\n",
       "      <td>-0.017488</td>\n",
       "      <td>-0.076242</td>\n",
       "      <td>0.027056</td>\n",
       "      <td>-0.014463</td>\n",
       "    </tr>\n",
       "    <tr>\n",
       "      <th>Conforming_Limit_000</th>\n",
       "      <td>0.210883</td>\n",
       "      <td>0.930114</td>\n",
       "      <td>0.427409</td>\n",
       "      <td>-0.202151</td>\n",
       "      <td>0.037052</td>\n",
       "      <td>1.000000</td>\n",
       "      <td>0.417603</td>\n",
       "      <td>0.121883</td>\n",
       "      <td>-0.042186</td>\n",
       "      <td>0.012920</td>\n",
       "      <td>-0.019398</td>\n",
       "    </tr>\n",
       "    <tr>\n",
       "      <th>Loan_Amount_Bucket</th>\n",
       "      <td>0.427748</td>\n",
       "      <td>0.439952</td>\n",
       "      <td>0.974794</td>\n",
       "      <td>-0.022963</td>\n",
       "      <td>0.340662</td>\n",
       "      <td>0.417603</td>\n",
       "      <td>1.000000</td>\n",
       "      <td>0.318574</td>\n",
       "      <td>-0.014211</td>\n",
       "      <td>-0.110459</td>\n",
       "      <td>-0.189685</td>\n",
       "    </tr>\n",
       "    <tr>\n",
       "      <th>Loan_to_income</th>\n",
       "      <td>-0.372314</td>\n",
       "      <td>0.140369</td>\n",
       "      <td>0.331509</td>\n",
       "      <td>-0.019869</td>\n",
       "      <td>-0.017488</td>\n",
       "      <td>0.121883</td>\n",
       "      <td>0.318574</td>\n",
       "      <td>1.000000</td>\n",
       "      <td>0.045058</td>\n",
       "      <td>-0.121578</td>\n",
       "      <td>-0.236222</td>\n",
       "    </tr>\n",
       "    <tr>\n",
       "      <th>As_of_Year</th>\n",
       "      <td>-0.051245</td>\n",
       "      <td>-0.045054</td>\n",
       "      <td>-0.016106</td>\n",
       "      <td>-0.019009</td>\n",
       "      <td>-0.076242</td>\n",
       "      <td>-0.042186</td>\n",
       "      <td>-0.014211</td>\n",
       "      <td>0.045058</td>\n",
       "      <td>1.000000</td>\n",
       "      <td>-0.251847</td>\n",
       "      <td>0.030270</td>\n",
       "    </tr>\n",
       "    <tr>\n",
       "      <th>Loan_Purpose__Refinance</th>\n",
       "      <td>0.031655</td>\n",
       "      <td>0.023806</td>\n",
       "      <td>-0.106720</td>\n",
       "      <td>0.036766</td>\n",
       "      <td>0.027056</td>\n",
       "      <td>0.012920</td>\n",
       "      <td>-0.110459</td>\n",
       "      <td>-0.121578</td>\n",
       "      <td>-0.251847</td>\n",
       "      <td>1.000000</td>\n",
       "      <td>-0.073670</td>\n",
       "    </tr>\n",
       "    <tr>\n",
       "      <th>Lien__Subordinate Lien</th>\n",
       "      <td>0.013059</td>\n",
       "      <td>-0.027201</td>\n",
       "      <td>-0.213176</td>\n",
       "      <td>-0.006207</td>\n",
       "      <td>-0.014463</td>\n",
       "      <td>-0.019398</td>\n",
       "      <td>-0.189685</td>\n",
       "      <td>-0.236222</td>\n",
       "      <td>0.030270</td>\n",
       "      <td>-0.073670</td>\n",
       "      <td>1.000000</td>\n",
       "    </tr>\n",
       "  </tbody>\n",
       "</table>\n",
       "</div>"
      ],
      "text/plain": [
       "                                Applicant_Income_000  \\\n",
       "Applicant_Income_000                        1.000000   \n",
       "FFIEC_Median_Family_Income                  0.221446   \n",
       "Loan_Amount_000                             0.437320   \n",
       "Number_of_Owner_Occupied_Units              0.000032   \n",
       "Tract_to_MSA_MD_Income_Pct                  0.278256   \n",
       "Conforming_Limit_000                        0.210883   \n",
       "Loan_Amount_Bucket                          0.427748   \n",
       "Loan_to_income                             -0.372314   \n",
       "As_of_Year                                 -0.051245   \n",
       "Loan_Purpose__Refinance                     0.031655   \n",
       "Lien__Subordinate Lien                      0.013059   \n",
       "\n",
       "                                FFIEC_Median_Family_Income  Loan_Amount_000  \\\n",
       "Applicant_Income_000                              0.221446         0.437320   \n",
       "FFIEC_Median_Family_Income                        1.000000         0.450914   \n",
       "Loan_Amount_000                                   0.450914         1.000000   \n",
       "Number_of_Owner_Occupied_Units                   -0.181458        -0.023436   \n",
       "Tract_to_MSA_MD_Income_Pct                        0.033893         0.348828   \n",
       "Conforming_Limit_000                              0.930114         0.427409   \n",
       "Loan_Amount_Bucket                                0.439952         0.974794   \n",
       "Loan_to_income                                    0.140369         0.331509   \n",
       "As_of_Year                                       -0.045054        -0.016106   \n",
       "Loan_Purpose__Refinance                           0.023806        -0.106720   \n",
       "Lien__Subordinate Lien                           -0.027201        -0.213176   \n",
       "\n",
       "                                Number_of_Owner_Occupied_Units  \\\n",
       "Applicant_Income_000                                  0.000032   \n",
       "FFIEC_Median_Family_Income                           -0.181458   \n",
       "Loan_Amount_000                                      -0.023436   \n",
       "Number_of_Owner_Occupied_Units                        1.000000   \n",
       "Tract_to_MSA_MD_Income_Pct                            0.262901   \n",
       "Conforming_Limit_000                                 -0.202151   \n",
       "Loan_Amount_Bucket                                   -0.022963   \n",
       "Loan_to_income                                       -0.019869   \n",
       "As_of_Year                                           -0.019009   \n",
       "Loan_Purpose__Refinance                               0.036766   \n",
       "Lien__Subordinate Lien                               -0.006207   \n",
       "\n",
       "                                Tract_to_MSA_MD_Income_Pct  \\\n",
       "Applicant_Income_000                              0.278256   \n",
       "FFIEC_Median_Family_Income                        0.033893   \n",
       "Loan_Amount_000                                   0.348828   \n",
       "Number_of_Owner_Occupied_Units                    0.262901   \n",
       "Tract_to_MSA_MD_Income_Pct                        1.000000   \n",
       "Conforming_Limit_000                              0.037052   \n",
       "Loan_Amount_Bucket                                0.340662   \n",
       "Loan_to_income                                   -0.017488   \n",
       "As_of_Year                                       -0.076242   \n",
       "Loan_Purpose__Refinance                           0.027056   \n",
       "Lien__Subordinate Lien                           -0.014463   \n",
       "\n",
       "                                Conforming_Limit_000  Loan_Amount_Bucket  \\\n",
       "Applicant_Income_000                        0.210883            0.427748   \n",
       "FFIEC_Median_Family_Income                  0.930114            0.439952   \n",
       "Loan_Amount_000                             0.427409            0.974794   \n",
       "Number_of_Owner_Occupied_Units             -0.202151           -0.022963   \n",
       "Tract_to_MSA_MD_Income_Pct                  0.037052            0.340662   \n",
       "Conforming_Limit_000                        1.000000            0.417603   \n",
       "Loan_Amount_Bucket                          0.417603            1.000000   \n",
       "Loan_to_income                              0.121883            0.318574   \n",
       "As_of_Year                                 -0.042186           -0.014211   \n",
       "Loan_Purpose__Refinance                     0.012920           -0.110459   \n",
       "Lien__Subordinate Lien                     -0.019398           -0.189685   \n",
       "\n",
       "                                Loan_to_income  As_of_Year  \\\n",
       "Applicant_Income_000                 -0.372314   -0.051245   \n",
       "FFIEC_Median_Family_Income            0.140369   -0.045054   \n",
       "Loan_Amount_000                       0.331509   -0.016106   \n",
       "Number_of_Owner_Occupied_Units       -0.019869   -0.019009   \n",
       "Tract_to_MSA_MD_Income_Pct           -0.017488   -0.076242   \n",
       "Conforming_Limit_000                  0.121883   -0.042186   \n",
       "Loan_Amount_Bucket                    0.318574   -0.014211   \n",
       "Loan_to_income                        1.000000    0.045058   \n",
       "As_of_Year                            0.045058    1.000000   \n",
       "Loan_Purpose__Refinance              -0.121578   -0.251847   \n",
       "Lien__Subordinate Lien               -0.236222    0.030270   \n",
       "\n",
       "                                Loan_Purpose__Refinance  \\\n",
       "Applicant_Income_000                           0.031655   \n",
       "FFIEC_Median_Family_Income                     0.023806   \n",
       "Loan_Amount_000                               -0.106720   \n",
       "Number_of_Owner_Occupied_Units                 0.036766   \n",
       "Tract_to_MSA_MD_Income_Pct                     0.027056   \n",
       "Conforming_Limit_000                           0.012920   \n",
       "Loan_Amount_Bucket                            -0.110459   \n",
       "Loan_to_income                                -0.121578   \n",
       "As_of_Year                                    -0.251847   \n",
       "Loan_Purpose__Refinance                        1.000000   \n",
       "Lien__Subordinate Lien                        -0.073670   \n",
       "\n",
       "                                Lien__Subordinate Lien  \n",
       "Applicant_Income_000                          0.013059  \n",
       "FFIEC_Median_Family_Income                   -0.027201  \n",
       "Loan_Amount_000                              -0.213176  \n",
       "Number_of_Owner_Occupied_Units               -0.006207  \n",
       "Tract_to_MSA_MD_Income_Pct                   -0.014463  \n",
       "Conforming_Limit_000                         -0.019398  \n",
       "Loan_Amount_Bucket                           -0.189685  \n",
       "Loan_to_income                               -0.236222  \n",
       "As_of_Year                                    0.030270  \n",
       "Loan_Purpose__Refinance                      -0.073670  \n",
       "Lien__Subordinate Lien                        1.000000  "
      ]
     },
     "execution_count": 79,
     "metadata": {},
     "output_type": "execute_result"
    }
   ],
   "source": [
    "# collinearity\n",
    "df_model.corr()\n",
    "\n",
    "# Check to see correlation coefficient absolute value > 0.7\n",
    "# FFIEC_Median_Family_Income, Conforming_Limit_000 0.93\n",
    "# Loan_Amount_000, Loan_Amount_Bucket  0.98"
   ]
  },
  {
   "cell_type": "code",
   "execution_count": 87,
   "metadata": {
    "collapsed": false
   },
   "outputs": [
    {
     "name": "stdout",
     "output_type": "stream",
     "text": [
      "<class 'pandas.core.frame.DataFrame'>\n",
      "Int64Index: 868848 entries, 0 to 1320851\n",
      "Data columns (total 10 columns):\n",
      "Applicant_Income_000              868848 non-null float64\n",
      "Number_of_Owner_Occupied_Units    868848 non-null float64\n",
      "Tract_to_MSA_MD_Income_Pct        868848 non-null float64\n",
      "Conforming_Limit_000              868848 non-null float64\n",
      "Loan_Amount_Bucket                868848 non-null float64\n",
      "Loan_to_income                    868848 non-null float64\n",
      "State                             868848 non-null object\n",
      "As_of_Year                        868848 non-null int64\n",
      "Loan_Purpose_Refinance            868848 non-null float64\n",
      "Lien_Subordinate Lien             868848 non-null float64\n",
      "dtypes: float64(8), int64(1), object(1)\n",
      "memory usage: 72.9+ MB\n"
     ]
    }
   ],
   "source": [
    "# FFIEC_Median_Family_Income, Conforming_Limit_000 0.93\n",
    "# Loan_Amount_000, Loan_Amount_Bucket  0.98\n",
    "# Remove FFIEC_Median_Family_Income, Loan_Amount_000\n",
    "\n",
    "df_model3 = df_model2.drop(['FFIEC_Median_Family_Income','Loan_Amount_000'],axis=1)\n",
    "df_model3.info()"
   ]
  },
  {
   "cell_type": "code",
   "execution_count": 55,
   "metadata": {
    "collapsed": true
   },
   "outputs": [],
   "source": [
    "# Standardize the Variables\n",
    "# To eliminate the effect of scale of the variables.\n",
    "from sklearn.preprocessing import StandardScaler"
   ]
  },
  {
   "cell_type": "code",
   "execution_count": 89,
   "metadata": {
    "collapsed": false
   },
   "outputs": [
    {
     "data": {
      "text/html": [
       "<div>\n",
       "<table border=\"1\" class=\"dataframe\">\n",
       "  <thead>\n",
       "    <tr style=\"text-align: right;\">\n",
       "      <th></th>\n",
       "      <th>Applicant_Income_000</th>\n",
       "      <th>Number_of_Owner_Occupied_Units</th>\n",
       "      <th>Tract_to_MSA_MD_Income_Pct</th>\n",
       "      <th>Conforming_Limit_000</th>\n",
       "      <th>Loan_Amount_Bucket</th>\n",
       "      <th>Loan_to_income</th>\n",
       "      <th>Loan_Purpose_Refinance</th>\n",
       "      <th>Lien_Subordinate Lien</th>\n",
       "    </tr>\n",
       "  </thead>\n",
       "  <tbody>\n",
       "    <tr>\n",
       "      <th>0</th>\n",
       "      <td>-0.337301</td>\n",
       "      <td>0.289065</td>\n",
       "      <td>-0.695210</td>\n",
       "      <td>-1.35661</td>\n",
       "      <td>-1.456174</td>\n",
       "      <td>-1.086372</td>\n",
       "      <td>0.621987</td>\n",
       "      <td>-0.149039</td>\n",
       "    </tr>\n",
       "    <tr>\n",
       "      <th>1</th>\n",
       "      <td>-0.337301</td>\n",
       "      <td>0.294416</td>\n",
       "      <td>-1.634089</td>\n",
       "      <td>-1.35661</td>\n",
       "      <td>-0.704213</td>\n",
       "      <td>-0.718069</td>\n",
       "      <td>0.621987</td>\n",
       "      <td>-0.149039</td>\n",
       "    </tr>\n",
       "    <tr>\n",
       "      <th>2</th>\n",
       "      <td>-0.672584</td>\n",
       "      <td>0.294416</td>\n",
       "      <td>-1.634089</td>\n",
       "      <td>-1.35661</td>\n",
       "      <td>-1.456174</td>\n",
       "      <td>-0.926364</td>\n",
       "      <td>0.621987</td>\n",
       "      <td>-0.149039</td>\n",
       "    </tr>\n",
       "    <tr>\n",
       "      <th>3</th>\n",
       "      <td>-0.326485</td>\n",
       "      <td>0.984698</td>\n",
       "      <td>0.700658</td>\n",
       "      <td>-1.35661</td>\n",
       "      <td>-0.704213</td>\n",
       "      <td>-1.022155</td>\n",
       "      <td>0.621987</td>\n",
       "      <td>-0.149039</td>\n",
       "    </tr>\n",
       "    <tr>\n",
       "      <th>4</th>\n",
       "      <td>-0.834818</td>\n",
       "      <td>0.194530</td>\n",
       "      <td>0.238849</td>\n",
       "      <td>-1.35661</td>\n",
       "      <td>-0.704213</td>\n",
       "      <td>0.363977</td>\n",
       "      <td>-1.607750</td>\n",
       "      <td>-0.149039</td>\n",
       "    </tr>\n",
       "  </tbody>\n",
       "</table>\n",
       "</div>"
      ],
      "text/plain": [
       "   Applicant_Income_000  Number_of_Owner_Occupied_Units  \\\n",
       "0             -0.337301                        0.289065   \n",
       "1             -0.337301                        0.294416   \n",
       "2             -0.672584                        0.294416   \n",
       "3             -0.326485                        0.984698   \n",
       "4             -0.834818                        0.194530   \n",
       "\n",
       "   Tract_to_MSA_MD_Income_Pct  Conforming_Limit_000  Loan_Amount_Bucket  \\\n",
       "0                   -0.695210              -1.35661           -1.456174   \n",
       "1                   -1.634089              -1.35661           -0.704213   \n",
       "2                   -1.634089              -1.35661           -1.456174   \n",
       "3                    0.700658              -1.35661           -0.704213   \n",
       "4                    0.238849              -1.35661           -0.704213   \n",
       "\n",
       "   Loan_to_income  Loan_Purpose_Refinance  Lien_Subordinate Lien  \n",
       "0       -1.086372                0.621987              -0.149039  \n",
       "1       -0.718069                0.621987              -0.149039  \n",
       "2       -0.926364                0.621987              -0.149039  \n",
       "3       -1.022155                0.621987              -0.149039  \n",
       "4        0.363977               -1.607750              -0.149039  "
      ]
     },
     "execution_count": 89,
     "metadata": {},
     "output_type": "execute_result"
    }
   ],
   "source": [
    "scaler = StandardScaler()\n",
    "scaler.fit(df_model3.drop(['State','As_of_Year'],axis=1))\n",
    "scaled_features = scaler.transform(df_model3.drop(['State','As_of_Year'],axis=1))\n",
    "df_feat = pd.DataFrame(scaled_features,columns=['Applicant_Income_000','Number_of_Owner_Occupied_Units',\n",
    "                                                'Tract_to_MSA_MD_Income_Pct','Conforming_Limit_000',\n",
    "                                                'Loan_Amount_Bucket','Loan_to_income',\n",
    "                                                'Loan_Purpose_Refinance','Lien_Subordinate Lien'])\n",
    "df_feat.head()"
   ]
  },
  {
   "cell_type": "code",
   "execution_count": 58,
   "metadata": {
    "collapsed": true
   },
   "outputs": [],
   "source": [
    "# Model\n",
    "from sklearn.cluster import KMeans"
   ]
  },
  {
   "cell_type": "code",
   "execution_count": 114,
   "metadata": {
    "collapsed": false
   },
   "outputs": [
    {
     "data": {
      "text/plain": [
       "KMeans(copy_x=True, init='k-means++', max_iter=300, n_clusters=2, n_init=10,\n",
       "    n_jobs=1, precompute_distances='auto', random_state=None, tol=0.0001,\n",
       "    verbose=0)"
      ]
     },
     "execution_count": 114,
     "metadata": {},
     "output_type": "execute_result"
    }
   ],
   "source": [
    "# \n",
    "# Two clusters\n",
    "#\n",
    "kmeans = KMeans(n_clusters=2)\n",
    "kmeans.fit(df_feat)"
   ]
  },
  {
   "cell_type": "code",
   "execution_count": 115,
   "metadata": {
    "collapsed": false
   },
   "outputs": [],
   "source": [
    "pred = kmeans.predict(df_feat)"
   ]
  },
  {
   "cell_type": "code",
   "execution_count": 116,
   "metadata": {
    "collapsed": false
   },
   "outputs": [],
   "source": [
    "df_model3['Cluster2'] = pred\n",
    "df_model3['Cluster2'] = df_model3['Cluster2'].apply(lambda x: 'Pattern 1' if x==1 else 'Pattern 2')"
   ]
  },
  {
   "cell_type": "code",
   "execution_count": 117,
   "metadata": {
    "collapsed": false
   },
   "outputs": [
    {
     "data": {
      "text/plain": [
       "Pattern 2    0.542674\n",
       "Pattern 1    0.457326\n",
       "Name: Cluster2, dtype: float64"
      ]
     },
     "execution_count": 117,
     "metadata": {},
     "output_type": "execute_result"
    }
   ],
   "source": [
    "df_model3['Cluster2'].value_counts(normalize=True)"
   ]
  },
  {
   "cell_type": "code",
   "execution_count": 118,
   "metadata": {
    "collapsed": false
   },
   "outputs": [
    {
     "data": {
      "text/html": [
       "<div>\n",
       "<table border=\"1\" class=\"dataframe\">\n",
       "  <thead>\n",
       "    <tr style=\"text-align: right;\">\n",
       "      <th></th>\n",
       "      <th>Applicant_Income_000</th>\n",
       "      <th>Number_of_Owner_Occupied_Units</th>\n",
       "      <th>Tract_to_MSA_MD_Income_Pct</th>\n",
       "      <th>Conforming_Limit_000</th>\n",
       "      <th>Loan_Amount_Bucket</th>\n",
       "      <th>Loan_to_income</th>\n",
       "      <th>State</th>\n",
       "      <th>As_of_Year</th>\n",
       "      <th>Loan_Purpose_Refinance</th>\n",
       "      <th>Lien_Subordinate Lien</th>\n",
       "      <th>Cluster2</th>\n",
       "      <th>Cluster3</th>\n",
       "    </tr>\n",
       "  </thead>\n",
       "  <tbody>\n",
       "    <tr>\n",
       "      <th>0</th>\n",
       "      <td>84.0</td>\n",
       "      <td>1545.0</td>\n",
       "      <td>93.07</td>\n",
       "      <td>417.0</td>\n",
       "      <td>1.0</td>\n",
       "      <td>1.119048</td>\n",
       "      <td>WV</td>\n",
       "      <td>2012</td>\n",
       "      <td>1.0</td>\n",
       "      <td>0.0</td>\n",
       "      <td>Pattern 2</td>\n",
       "      <td>Pattern 2</td>\n",
       "    </tr>\n",
       "    <tr>\n",
       "      <th>1</th>\n",
       "      <td>84.0</td>\n",
       "      <td>1548.0</td>\n",
       "      <td>58.00</td>\n",
       "      <td>417.0</td>\n",
       "      <td>2.0</td>\n",
       "      <td>1.583333</td>\n",
       "      <td>WV</td>\n",
       "      <td>2012</td>\n",
       "      <td>1.0</td>\n",
       "      <td>0.0</td>\n",
       "      <td>Pattern 2</td>\n",
       "      <td>Pattern 2</td>\n",
       "    </tr>\n",
       "    <tr>\n",
       "      <th>2</th>\n",
       "      <td>53.0</td>\n",
       "      <td>1548.0</td>\n",
       "      <td>58.00</td>\n",
       "      <td>417.0</td>\n",
       "      <td>1.0</td>\n",
       "      <td>1.320755</td>\n",
       "      <td>WV</td>\n",
       "      <td>2012</td>\n",
       "      <td>1.0</td>\n",
       "      <td>0.0</td>\n",
       "      <td>Pattern 2</td>\n",
       "      <td>Pattern 2</td>\n",
       "    </tr>\n",
       "    <tr>\n",
       "      <th>3</th>\n",
       "      <td>85.0</td>\n",
       "      <td>1935.0</td>\n",
       "      <td>145.21</td>\n",
       "      <td>417.0</td>\n",
       "      <td>2.0</td>\n",
       "      <td>1.200000</td>\n",
       "      <td>WV</td>\n",
       "      <td>2012</td>\n",
       "      <td>1.0</td>\n",
       "      <td>0.0</td>\n",
       "      <td>Pattern 2</td>\n",
       "      <td>Pattern 2</td>\n",
       "    </tr>\n",
       "    <tr>\n",
       "      <th>4</th>\n",
       "      <td>38.0</td>\n",
       "      <td>1492.0</td>\n",
       "      <td>127.96</td>\n",
       "      <td>417.0</td>\n",
       "      <td>2.0</td>\n",
       "      <td>2.947368</td>\n",
       "      <td>WV</td>\n",
       "      <td>2012</td>\n",
       "      <td>0.0</td>\n",
       "      <td>0.0</td>\n",
       "      <td>Pattern 2</td>\n",
       "      <td>Pattern 2</td>\n",
       "    </tr>\n",
       "  </tbody>\n",
       "</table>\n",
       "</div>"
      ],
      "text/plain": [
       "   Applicant_Income_000  Number_of_Owner_Occupied_Units  \\\n",
       "0                  84.0                          1545.0   \n",
       "1                  84.0                          1548.0   \n",
       "2                  53.0                          1548.0   \n",
       "3                  85.0                          1935.0   \n",
       "4                  38.0                          1492.0   \n",
       "\n",
       "   Tract_to_MSA_MD_Income_Pct  Conforming_Limit_000  Loan_Amount_Bucket  \\\n",
       "0                       93.07                 417.0                 1.0   \n",
       "1                       58.00                 417.0                 2.0   \n",
       "2                       58.00                 417.0                 1.0   \n",
       "3                      145.21                 417.0                 2.0   \n",
       "4                      127.96                 417.0                 2.0   \n",
       "\n",
       "   Loan_to_income State  As_of_Year  Loan_Purpose_Refinance  \\\n",
       "0        1.119048    WV        2012                     1.0   \n",
       "1        1.583333    WV        2012                     1.0   \n",
       "2        1.320755    WV        2012                     1.0   \n",
       "3        1.200000    WV        2012                     1.0   \n",
       "4        2.947368    WV        2012                     0.0   \n",
       "\n",
       "   Lien_Subordinate Lien   Cluster2   Cluster3  \n",
       "0                    0.0  Pattern 2  Pattern 2  \n",
       "1                    0.0  Pattern 2  Pattern 2  \n",
       "2                    0.0  Pattern 2  Pattern 2  \n",
       "3                    0.0  Pattern 2  Pattern 2  \n",
       "4                    0.0  Pattern 2  Pattern 2  "
      ]
     },
     "execution_count": 118,
     "metadata": {},
     "output_type": "execute_result"
    }
   ],
   "source": [
    "df_model3.head()"
   ]
  },
  {
   "cell_type": "code",
   "execution_count": 122,
   "metadata": {
    "collapsed": false
   },
   "outputs": [
    {
     "data": {
      "text/html": [
       "<div>\n",
       "<table border=\"1\" class=\"dataframe\">\n",
       "  <thead>\n",
       "    <tr style=\"text-align: right;\">\n",
       "      <th>Cluster2</th>\n",
       "      <th>Pattern 1</th>\n",
       "      <th>Pattern 2</th>\n",
       "    </tr>\n",
       "    <tr>\n",
       "      <th>State</th>\n",
       "      <th></th>\n",
       "      <th></th>\n",
       "    </tr>\n",
       "  </thead>\n",
       "  <tbody>\n",
       "    <tr>\n",
       "      <th>DC</th>\n",
       "      <td>31472</td>\n",
       "      <td>5270</td>\n",
       "    </tr>\n",
       "    <tr>\n",
       "      <th>DE</th>\n",
       "      <td>2816</td>\n",
       "      <td>37933</td>\n",
       "    </tr>\n",
       "    <tr>\n",
       "      <th>MD</th>\n",
       "      <td>144508</td>\n",
       "      <td>157245</td>\n",
       "    </tr>\n",
       "    <tr>\n",
       "      <th>VA</th>\n",
       "      <td>215620</td>\n",
       "      <td>219169</td>\n",
       "    </tr>\n",
       "    <tr>\n",
       "      <th>WV</th>\n",
       "      <td>2931</td>\n",
       "      <td>51884</td>\n",
       "    </tr>\n",
       "  </tbody>\n",
       "</table>\n",
       "</div>"
      ],
      "text/plain": [
       "Cluster2  Pattern 1  Pattern 2\n",
       "State                         \n",
       "DC            31472       5270\n",
       "DE             2816      37933\n",
       "MD           144508     157245\n",
       "VA           215620     219169\n",
       "WV             2931      51884"
      ]
     },
     "execution_count": 122,
     "metadata": {},
     "output_type": "execute_result"
    }
   ],
   "source": [
    "# visualization by state\n",
    "clusterdf = df_model3.groupby(by=['State'])['Cluster2'].value_counts()\n",
    "clusterdf.unstack(level=-1).head(10)"
   ]
  },
  {
   "cell_type": "code",
   "execution_count": 124,
   "metadata": {
    "collapsed": false
   },
   "outputs": [
    {
     "data": {
      "text/plain": [
       "<matplotlib.axes._subplots.AxesSubplot at 0x3e2616a0>"
      ]
     },
     "execution_count": 124,
     "metadata": {},
     "output_type": "execute_result"
    },
    {
     "data": {
      "image/png": "[encoded data removed]",
      "text/plain": [
       "<matplotlib.figure.Figure at 0x64d17828>"
      ]
     },
     "metadata": {},
     "output_type": "display_data"
    }
   ],
   "source": [
    "clusterdf.unstack().plot(kind='bar',stacked=True,figsize=(4,4),subplots=False,\n",
    "                        title='Lending Patterns of 2 Clusters')"
   ]
  },
  {
   "cell_type": "code",
   "execution_count": 121,
   "metadata": {
    "collapsed": false
   },
   "outputs": [
    {
     "data": {
      "text/plain": [
       "Pattern 3    0.532501\n",
       "Pattern 1    0.445770\n",
       "Pattern 2    0.021730\n",
       "Name: Cluster3, dtype: float64"
      ]
     },
     "execution_count": 121,
     "metadata": {},
     "output_type": "execute_result"
    }
   ],
   "source": [
    "# \n",
    "# Three clusters\n",
    "#\n",
    "kmeans = KMeans(n_clusters=3)\n",
    "kmeans.fit(df_feat)\n",
    "pred = kmeans.predict(df_feat)\n",
    "df_model3['Cluster3'] = pred\n",
    "df_model3['Cluster3'] = df_model3['Cluster3'].apply(lambda x: 'Pattern 1' if x==0 else 'Pattern 2' if x==1 else 'Pattern 3')\n",
    "df_model3['Cluster3'].value_counts(normalize=True)"
   ]
  },
  {
   "cell_type": "code",
   "execution_count": 125,
   "metadata": {
    "collapsed": false
   },
   "outputs": [
    {
     "data": {
      "text/plain": [
       "<matplotlib.axes._subplots.AxesSubplot at 0x64ca2978>"
      ]
     },
     "execution_count": 125,
     "metadata": {},
     "output_type": "execute_result"
    },
    {
     "data": {
      "image/png": "[encoded data removed]",
      "text/plain": [
       "<matplotlib.figure.Figure at 0x3e290cc0>"
      ]
     },
     "metadata": {},
     "output_type": "display_data"
    }
   ],
   "source": [
    "# visualization by state\n",
    "clusterdf = df_model3.groupby(by=['State'])['Cluster3'].value_counts()\n",
    "clusterdf.unstack(level=-1).head(10)\n",
    "clusterdf.unstack().plot(kind='bar',stacked=True,figsize=(4,4),subplots=False,\n",
    "                        title='Lending Patterns of 2 Clusters')"
   ]
  },
  {
   "cell_type": "code",
   "execution_count": null,
   "metadata": {
    "collapsed": true
   },
   "outputs": [],
   "source": []
  }
 ],
 "metadata": {
  "anaconda-cloud": {},
  "kernelspec": {
   "display_name": "Python [default]",
   "language": "python",
   "name": "python2"
  },
  "language_info": {
   "codemirror_mode": {
    "name": "ipython",
    "version": 2
   },
   "file_extension": ".py",
   "mimetype": "text/x-python",
   "name": "python",
   "nbconvert_exporter": "python",
   "pygments_lexer": "ipython2",
   "version": "2.7.12"
  }
 },
 "nbformat": 4,
 "nbformat_minor": 2
}
