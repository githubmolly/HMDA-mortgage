{
 "cells": [
  {
   "cell_type": "code",
   "execution_count": null,
   "metadata": {
    "collapsed": true
   },
   "outputs": [],
   "source": [
    "##################################################################\n",
    "# Cluster the applicant\n",
    "##################################################################\n",
    "# K Means clusters, an unsupervised machine learning algorithm. \n",
    "# Identify clusters of lending patterns\n",
    "\n",
    "# Only the conventional conforming loans data were considered.\n",
    "# The lending patterns that of interests are:\n",
    "\n",
    "# numeric:\n",
    "# ---------\n",
    "# Applicant_Income_000\n",
    "# FFIEC_Median_Family_Income\n",
    "# Loan_Amount_000\n",
    "# Number_of_Owner_Occupied_Units\n",
    "# Tract_to_MSA_MD_Income_Pct\n",
    "# Conforming_Limit_000\n",
    "# Loan_Amount_Bucket\n",
    "# Loan_to_income\n",
    "\n",
    "# categorical:\n",
    "# ------------\n",
    "# Loan_Purpose_Description\n",
    "# Lien_Status_Description"
   ]
  },
  {
   "cell_type": "code",
   "execution_count": null,
   "metadata": {
    "collapsed": true
   },
   "outputs": [],
   "source": [
    "from sklearn.cluster import KMeans\n",
    "# subset the data with only variables of interest\n",
    "df_model = df_hmda_conv_conf[['Applicant_Income_000', 'FFIEC_Median_Family_Income','Loan_Amount_000',\n",
    "                             'Number_of_Owner_Occupied_Units','Tract_to_MSA_MD_Income_Pct','Conforming_Limit_000',\n",
    "                             'Loan_Amount_Bucket','Loan_to_income','Loan_Purpose_Description','Lien_Status_Description',\n",
    "                            'State','As_of_Year']]\n",
    "df_model.info()\n",
    "# count the missing values\n",
    "sr = df_model.isnull().sum()/879453 #total number of entries 879453\n",
    "sr.sort_values(ascending=False)\n",
    "# drop missing values\n",
    "df_model1=df_model.dropna()\n",
    "df_model1.info()\n",
    "# 868848 entries\n",
    "# convert categorical variable into dummy variables\n",
    "a1 = pd.get_dummies(df_model1['Loan_Purpose_Description'],prefix='Loan_Purpose',drop_first=True)\n",
    "a2 = pd.get_dummies(df_model1['Lien_Status_Description'],prefix='Lien',drop_first=True)\n",
    "df_model1.drop(['Loan_Purpose_Description','Lien_Status_Description'],axis=1,inplace=True)\n",
    "df_model2 = pd.concat([df_model1,a1,a2],axis=1)\n",
    "df_model2.head()\n",
    "# collinearity\n",
    "df_model.corr()\n",
    "\n",
    "# Check to see correlation coefficient absolute value > 0.7\n",
    "# FFIEC_Median_Family_Income, Conforming_Limit_000 0.93\n",
    "# Loan_Amount_000, Loan_Amount_Bucket  0.98"
   ]
  },
  {
   "cell_type": "code",
   "execution_count": null,
   "metadata": {
    "collapsed": true
   },
   "outputs": [],
   "source": [
    "# FFIEC_Median_Family_Income, Conforming_Limit_000 0.93\n",
    "# Loan_Amount_000, Loan_Amount_Bucket  0.98\n",
    "# Remove FFIEC_Median_Family_Income, Loan_Amount_000\n",
    "\n",
    "df_model3 = df_model2.drop(['FFIEC_Median_Family_Income','Loan_Amount_000'],axis=1)\n",
    "df_model3.info()"
   ]
  },
  {
   "cell_type": "code",
   "execution_count": null,
   "metadata": {
    "collapsed": true
   },
   "outputs": [],
   "source": [
    "# Standardize the Variables\n",
    "# To eliminate the effect of scale of the variables.\n",
    "from sklearn.preprocessing import StandardScaler"
   ]
  },
  {
   "cell_type": "code",
   "execution_count": null,
   "metadata": {
    "collapsed": true
   },
   "outputs": [],
   "source": [
    "scaler = StandardScaler()\n",
    "scaler.fit(df_model3.drop(['State','As_of_Year'],axis=1))\n",
    "scaled_features = scaler.transform(df_model3.drop(['State','As_of_Year'],axis=1))\n",
    "df_feat = pd.DataFrame(scaled_features,columns=['Applicant_Income_000','Number_of_Owner_Occupied_Units',\n",
    "                                                'Tract_to_MSA_MD_Income_Pct','Conforming_Limit_000',\n",
    "                                                'Loan_Amount_Bucket','Loan_to_income',\n",
    "                                                'Loan_Purpose_Refinance','Lien_Subordinate Lien'])\n",
    "df_feat.head()"
   ]
  },
  {
   "cell_type": "code",
   "execution_count": null,
   "metadata": {
    "collapsed": true
   },
   "outputs": [],
   "source": [
    "# Model\n",
    "from sklearn.cluster import KMeans"
   ]
  },
  {
   "cell_type": "code",
   "execution_count": null,
   "metadata": {
    "collapsed": true
   },
   "outputs": [],
   "source": [
    "# \n",
    "# Two clusters\n",
    "#\n",
    "kmeans = KMeans(n_clusters=2)\n",
    "kmeans.fit(df_feat)"
   ]
  },
  {
   "cell_type": "code",
   "execution_count": null,
   "metadata": {
    "collapsed": true
   },
   "outputs": [],
   "source": [
    "pred = kmeans.predict(df_feat)"
   ]
  },
  {
   "cell_type": "code",
   "execution_count": null,
   "metadata": {
    "collapsed": true
   },
   "outputs": [],
   "source": [
    "df_model3['Cluster2'] = pred\n",
    "df_model3['Cluster2'] = df_model3['Cluster2'].apply(lambda x: 'Pattern 1' if x==1 else 'Pattern 2')"
   ]
  },
  {
   "cell_type": "code",
   "execution_count": null,
   "metadata": {
    "collapsed": true
   },
   "outputs": [],
   "source": [
    "df_model3['Cluster2'].value_counts(normalize=True)"
   ]
  },
  {
   "cell_type": "code",
   "execution_count": null,
   "metadata": {
    "collapsed": true
   },
   "outputs": [],
   "source": [
    "df_model3.head()"
   ]
  },
  {
   "cell_type": "code",
   "execution_count": null,
   "metadata": {
    "collapsed": true
   },
   "outputs": [],
   "source": [
    "# visualization by state\n",
    "clusterdf = df_model3.groupby(by=['State'])['Cluster2'].value_counts()\n",
    "clusterdf.unstack(level=-1).head(10)"
   ]
  },
  {
   "cell_type": "code",
   "execution_count": null,
   "metadata": {
    "collapsed": true
   },
   "outputs": [],
   "source": [
    "clusterdf.unstack().plot(kind='bar',stacked=True,figsize=(4,4),subplots=False,\n",
    "                        title='Lending Patterns of 2 Clusters')"
   ]
  },
  {
   "cell_type": "code",
   "execution_count": null,
   "metadata": {
    "collapsed": true
   },
   "outputs": [],
   "source": [
    "# \n",
    "# Three clusters\n",
    "#\n",
    "kmeans = KMeans(n_clusters=3)\n",
    "kmeans.fit(df_feat)\n",
    "pred = kmeans.predict(df_feat)\n",
    "df_model3['Cluster3'] = pred\n",
    "df_model3['Cluster3'] = df_model3['Cluster3'].apply(lambda x: 'Pattern 1' if x==0 else 'Pattern 2' if x==1 else 'Pattern 3')\n",
    "df_model3['Cluster3'].value_counts(normalize=True)"
   ]
  },
  {
   "cell_type": "code",
   "execution_count": null,
   "metadata": {
    "collapsed": true
   },
   "outputs": [],
   "source": [
    "# visualization by state\n",
    "clusterdf = df_model3.groupby(by=['State'])['Cluster3'].value_counts()\n",
    "clusterdf.unstack(level=-1).head(10)\n",
    "clusterdf.unstack().plot(kind='bar',stacked=True,figsize=(4,4),subplots=False,\n",
    "                        title='Lending Patterns of 2 Clusters')"
   ]
  },
  {
   "cell_type": "code",
   "execution_count": null,
   "metadata": {
    "collapsed": true
   },
   "outputs": [],
   "source": []
  }
 ],
 "metadata": {
  "kernelspec": {
   "display_name": "Python [conda root]",
   "language": "python",
   "name": "conda-root-py"
  },
  "language_info": {
   "codemirror_mode": {
    "name": "ipython",
    "version": 2
   },
   "file_extension": ".py",
   "mimetype": "text/x-python",
   "name": "python",
   "nbconvert_exporter": "python",
   "pygments_lexer": "ipython2",
   "version": "2.7.12"
  }
 },
 "nbformat": 4,
 "nbformat_minor": 2
}
