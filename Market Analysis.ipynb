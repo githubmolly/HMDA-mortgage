{
 "cells": [
  {
   "cell_type": "code",
   "execution_count": null,
   "metadata": {
    "collapsed": true
   },
   "outputs": [],
   "source": [
    "################################################################################\n",
    "# Market Analysis\n",
    "#\n",
    "# Hypothesis of market entry depends on both external and internal factors,\n",
    "# HMDA data are only a source to analysis the external factors. Further information\n",
    "# about the company's capability, finanical statement, and other information \n",
    "# will be needed to analysis the potential revenue and the cost of market entry.\n",
    "#\n",
    "# External market analysis\n",
    "# 1.The market size by state and growth rate\n",
    "# 2.Main competitors / top lenders\n",
    "# 3.How competitive the market it, HHI\n",
    "################################################################################"
   ]
  },
  {
   "cell_type": "code",
   "execution_count": null,
   "metadata": {
    "collapsed": true
   },
   "outputs": [],
   "source": [
    "# subset the conventioanl loan\n",
    "df_hmda_conventional = df_hmda1[df_hmda1['Loan_Type_Description']=='Conventional'].copy()\n",
    "df_hmda_conventional.info()"
   ]
  },
  {
   "cell_type": "code",
   "execution_count": null,
   "metadata": {
    "collapsed": true
   },
   "outputs": [],
   "source": [
    "# Conventional and conforming loan market\n",
    "df_hmda_conventional['Conventional_Conforming_Flag'].value_counts(normalize=True, dropna=False)"
   ]
  },
  {
   "cell_type": "code",
   "execution_count": null,
   "metadata": {
    "collapsed": true
   },
   "outputs": [],
   "source": [
    "# Conventional and conforming loan dataset\n",
    "df_hmda_conv_conf = df_hmda_conventional[df_hmda_conventional['Conventional_Conforming_Flag']=='Y'].copy()\n",
    "df_hmda_conv_conf.info()\n",
    "# 879453 entries"
   ]
  },
  {
   "cell_type": "code",
   "execution_count": null,
   "metadata": {
    "collapsed": true
   },
   "outputs": [],
   "source": [
    "##############################################\n",
    "# The market size by state and growth rate\n",
    "##############################################\n",
    "# Total Loan amount by year\n",
    "loan_amount_byyear = df_hmda_conv_conf.groupby(by=['As_of_Year','State'])['Loan_Amount_000'].sum()\n",
    "df_loan_amount_byyear = pd.DataFrame(data=loan_amount_byyear,index=None)\n",
    "df_loan_amount_byyear.reset_index(inplace=True)\n",
    "\n",
    "# plot\n",
    "fig = sns.barplot(x='As_of_Year',y='Loan_Amount_000',data=df_loan_amount_byyear,\n",
    "                  hue='State', hue_order=['VA','MD','DC','WV','DE'])\n",
    "fig.set_title('Total Loan Amount in $000s')\n",
    "fig.set_xlabel('Year')\n",
    "fig.set_ylabel('Total Loan Amount in $000s')\n",
    "fig.grid(b='off')\n",
    "\n",
    "#  The total loan amount was decreasing from 2012 to 2014 in all the five states."
   ]
  },
  {
   "cell_type": "code",
   "execution_count": null,
   "metadata": {
    "collapsed": true
   },
   "outputs": [],
   "source": [
    "################################################################################\n",
    "# Interest Rate\n",
    "################################################################################\n",
    "# 30-Year Fixed-Rate Mortgages from 'http://www.freddiemac.com/pmms/pmms30.htm'\n",
    "rate = [['2011',4.45],\n",
    "['2012',3.66],\n",
    "['2013',3.98],\n",
    "['2014',4.17],\n",
    "['2015',3.85],\n",
    "['2016',3.65]]\n",
    "\n",
    "\n",
    "df_rate = pd.DataFrame.from_records(rate,columns=['YYYYMM', 'rate'])\n",
    "\n",
    "# Plot rate\n",
    "df_rate.plot(x='YYYYMM',y='rate', marker='o',legend=None, figsize=(6,3))\n",
    "plt.title('30-Year Fixed-Rate Mortgages')\n",
    "plt.ylabel('Average Rate')\n",
    "plt.xlabel('Year')"
   ]
  },
  {
   "cell_type": "code",
   "execution_count": null,
   "metadata": {
    "collapsed": true
   },
   "outputs": [],
   "source": [
    "####################################################################\n",
    "# Market segment\n",
    "####################################################################\n",
    "# loan purpose by year"
   ]
  },
  {
   "cell_type": "code",
   "execution_count": null,
   "metadata": {
    "collapsed": true
   },
   "outputs": [],
   "source": [
    "Loan_Purpose_amount = df_hmda_conv_conf.groupby(by=['As_of_Year','Loan_Purpose_Description'])['Loan_Amount_000'].sum()\n",
    "Loan_Purpose_amount.unstack(level=-1).head(10)\n",
    "Loan_Purpose_amount.unstack().plot(kind='bar',stacked=True,\n",
    "                                 figsize=(6,3),\n",
    "                                 title='Trend of Loan Purpose by Total Loan Amount in $1000',\n",
    "                                 subplots=False)"
   ]
  },
  {
   "cell_type": "code",
   "execution_count": null,
   "metadata": {
    "collapsed": true
   },
   "outputs": [],
   "source": [
    "# Loan purpose plot by state\n",
    "Loan_Purpose_amount = df_hmda_conv_conf.groupby(by=['As_of_Year','State','Loan_Purpose_Description'])['Loan_Amount_000'].sum()\n",
    "Loan_Purpose_amount = pd.DataFrame(data=Loan_Purpose_amount,index=None,columns=['Loan_Amount_000'])\n",
    "Loan_Purpose_amount.reset_index(inplace=True)\n",
    "Loan_Purpose_amount\n",
    "\n",
    "Loan_Purpose_amount_VA = Loan_Purpose_amount[Loan_Purpose_amount['State']=='VA']\n",
    "Loan_Purpose_amount_MD = Loan_Purpose_amount[Loan_Purpose_amount['State']=='MD']\n",
    "Loan_Purpose_amount_DC = Loan_Purpose_amount[Loan_Purpose_amount['State']=='DC']\n",
    "Loan_Purpose_amount_WV = Loan_Purpose_amount[Loan_Purpose_amount['State']=='WV']\n",
    "Loan_Purpose_amount_DE = Loan_Purpose_amount[Loan_Purpose_amount['State']=='DE']"
   ]
  },
  {
   "cell_type": "code",
   "execution_count": null,
   "metadata": {
    "collapsed": true
   },
   "outputs": [],
   "source": [
    "# VA\n",
    "sr1=Loan_Purpose_amount_VA['Loan_Amount_000'][Loan_Purpose_amount_VA['Loan_Purpose_Description']=='Purchase']\n",
    "sr2=Loan_Purpose_amount_VA['Loan_Amount_000'][Loan_Purpose_amount_VA['Loan_Purpose_Description']=='Refinance']\n",
    "\n",
    "ind = np.arange(3)   # the x locations for the groups\n",
    "width = 0.4       # the width of the bars: can also be len(x) sequence\n",
    "\n",
    "plt.figure(figsize=(5,4))\n",
    "p1 = plt.bar(ind, sr1, width, color='darkblue', alpha=0.7)\n",
    "p2 = plt.bar(ind, sr2, width, color='darkgreen',bottom=sr1, alpha=0.7)\n",
    "\n",
    "plt.ylabel('Loan Amount in $000s')\n",
    "plt.title('Loan Amount by Purpose in VA')\n",
    "plt.xticks(ind+width/2, ('2012', '2013', '2014'))\n",
    "plt.yticks(np.arange(0, 60000000, 10000000))\n",
    "plt.legend((p1[0], p2[0]), ('Purchase','Refinance'))\n",
    "\n",
    "plt.show()"
   ]
  },
  {
   "cell_type": "code",
   "execution_count": null,
   "metadata": {
    "collapsed": true
   },
   "outputs": [],
   "source": [
    "####################################################################\n",
    "# How competitive the market it, Herfindahl-Hirschman Index HHI\n",
    "####################################################################\n",
    "        \n",
    "def hhi(vector):\n",
    "    \"\"\" \n",
    "    Calculate the Hirschman-Herfindahl index\n",
    "    \n",
    "    param \n",
    "    -------\n",
    "    vector: Positive vector\n",
    "    \n",
    "    return: HHI (Float)\n",
    "    \"\"\"\n",
    "    return np.square(vector).sum()"
   ]
  }
 ],
 "metadata": {
  "kernelspec": {
   "display_name": "Python [conda root]",
   "language": "python",
   "name": "conda-root-py"
  },
  "language_info": {
   "codemirror_mode": {
    "name": "ipython",
    "version": 2
   },
   "file_extension": ".py",
   "mimetype": "text/x-python",
   "name": "python",
   "nbconvert_exporter": "python",
   "pygments_lexer": "ipython2",
   "version": "2.7.12"
  }
 },
 "nbformat": 4,
 "nbformat_minor": 2
}
