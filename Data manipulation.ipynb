{
 "cells": [
  {
   "cell_type": "code",
   "execution_count": null,
   "metadata": {
    "collapsed": true
   },
   "outputs": [],
   "source": [
    "import numpy as np\n",
    "import pandas as pd\n",
    "import math"
   ]
  },
  {
   "cell_type": "code",
   "execution_count": null,
   "metadata": {
    "collapsed": true
   },
   "outputs": [],
   "source": [
    "##############################################################\n",
    "# Data munging \n",
    "\n",
    "\n",
    "# hmda_init() – Read the data files and return a pointer or \n",
    "# object containing the expanded HMDA data\n",
    "##############################################################\n",
    "def hmda_init(loanfile=r\"E:\\JOB\\Job_Application_Materials\\Interview_by_company\\Capital One\\data-challenge-data-master\\data_copy\\2012_to_2014_loans_data.csv\",\n",
    "              institutionfile=r\"E:\\JOB\\Job_Application_Materials\\Interview_by_company\\Capital One\\data-challenge-data-master\\data_copy\\2012_to_2014_institutions_data.csv\"):\n",
    "    \n",
    "    \"\"\"\n",
    "    This function infiles data from .csv into pandas DataFrame\n",
    "    \n",
    "    Parameters\n",
    "    ----------\n",
    "    loanfile, string\n",
    "        the location path of the loans csv file\n",
    "        \n",
    "    institutionfile, string\n",
    "        the location path of the institution csv file\n",
    "        \n",
    "    \"\"\"\n",
    "    ##############################################################\n",
    "    # infile csv files\n",
    "    ##############################################################\n",
    "    \n",
    "    # read in loan csv file\n",
    "    loans = pd.read_csv(loanfile,\n",
    "                        header=0,\n",
    "                        low_memory=False)\n",
    "    \n",
    "    # fix up the format\n",
    "    \n",
    "    # a function make input list of columns to object format\n",
    "    def toObj(s,data):\n",
    "        \"\"\"\n",
    "        a function make input list of columns to object format\n",
    "\n",
    "        Parameters\n",
    "        ----------\n",
    "        s, list\n",
    "            list of column names\n",
    "\n",
    "        data, DataFrame\n",
    "            name of the dataset\n",
    "        \"\"\"\n",
    "        for col in s:\n",
    "            data[col] = data[col].astype(object)\n",
    "\n",
    "        \n",
    "    # a function make input list of columns to float format\n",
    "    def objToFloat(s,data):\n",
    "        \"\"\"\n",
    "        a function make input list of columns to float format.\n",
    "        It takes care of np.nan format. Since np.nan is float format,\n",
    "        the format for the numeric columns with np.nan value is float\n",
    "        instead of int\n",
    "\n",
    "        Parameters\n",
    "        ----------\n",
    "        s, list\n",
    "            list of column names\n",
    "\n",
    "        data, DataFrame\n",
    "            name of the dataset\n",
    "            \n",
    "        Returns\n",
    "        ----------\n",
    "        DataFrame\n",
    "        \"\"\"\n",
    "        for col in s:\n",
    "            # check the abnormal value\n",
    "            data[col].value_counts()\n",
    "\n",
    "            # change 'NA  ' into np.nan\n",
    "            data[col] = data[col].apply(\n",
    "                lambda x: np.nan if isinstance(x,str) and x.strip()=='NA' else x)\n",
    "\n",
    "            # str to float\n",
    "            data[col] = data[col].astype(float)\n",
    "            \n",
    "    # fix the object columns\n",
    "    colList = ['Agency_Code',\n",
    "               'Census_Tract_Number',\n",
    "               'County_Code',\n",
    "               'MSA_MD',\n",
    "               'Respondent_ID',\n",
    "               'Sequence_Number',\n",
    "               'State_Code',\n",
    "               'MSA_MD_Description',\n",
    "               'Loan_Purpose_Description',\n",
    "               'Agency_Code_Description',\n",
    "               'Lien_Status_Description',\n",
    "               'Loan_Type_Description',\n",
    "               'State',\n",
    "               'County_Name',\n",
    "               'Conventional_Status',\n",
    "               'Conforming_Status',\n",
    "               'Conventional_Conforming_Flag']\n",
    "    \n",
    "    # this function changes the list of the columns into object format\n",
    "    toObj(s=colList, data=loans)\n",
    "\n",
    "    # fix the numeric columns\n",
    "    colList = ['Applicant_Income_000', \n",
    "               'FFIEC_Median_Family_Income',\n",
    "               'Number_of_Owner_Occupied_Units',\n",
    "               'Tract_to_MSA_MD_Income_Pct']\n",
    "    # a function make input list of columns to float format, takes care of NA values.\n",
    "    objToFloat(s=colList, data=loans)\n",
    "\n",
    "    \n",
    "    # infile institution data\n",
    "    institution = pd.read_csv(institutionfile,\n",
    "                        header=0,\n",
    "                        low_memory=False)\n",
    "\n",
    "    # change integer to object\n",
    "    colList = ['Agency_Code']\n",
    "    \n",
    "    # this function changes the list of the columns into object format\n",
    "    toObj(s=colList, data=institution)\n",
    "\n",
    "    ##############################################################\n",
    "    # Join loan data and insititution data\n",
    "    ##############################################################\n",
    "    # join key: As_of_Year + Agency_code + Respondent_ID\n",
    "    df = loans.merge(right=institution, how='left',\n",
    "                     left_on=['As_of_Year','Agency_Code','Respondent_ID'],\n",
    "                     right_on=['As_of_Year','Agency_Code','Respondent_ID'])\n",
    "\n",
    "    ##############################################################\n",
    "    # Bucket loan amount\n",
    "    ##############################################################\n",
    "    df['Loan_Amount_Bucket'] = (df['Loan_Amount_000']/100+0.5).round() # round up\n",
    "    # if > 1000k, put them into same bucket\n",
    "    df.loc[df['Loan_Amount_Bucket'] > 10] = 11\n",
    "    \n",
    "    return df"
   ]
  },
  {
   "cell_type": "code",
   "execution_count": null,
   "metadata": {
    "collapsed": true
   },
   "outputs": [],
   "source": [
    "# infile csv into DataFrame\n",
    "df_hmda = hmda_init()\n",
    "df_hmda.head()\n",
    "df_hmda.info()"
   ]
  },
  {
   "cell_type": "code",
   "execution_count": null,
   "metadata": {
    "collapsed": true
   },
   "outputs": [],
   "source": [
    "##############################################################\n",
    "# Quality check \n",
    "\n",
    "# Data cleaning\n",
    "##############################################################\n",
    " \n",
    "import seaborn as sns\n",
    "import matplotlib.pyplot as plt\n",
    "%matplotlib inline"
   ]
  },
  {
   "cell_type": "code",
   "execution_count": null,
   "metadata": {
    "collapsed": true
   },
   "outputs": [],
   "source": [
    "# drop duplicates\n",
    "df_hmda1 = df_hmda.drop_duplicates(keep='first')"
   ]
  },
  {
   "cell_type": "code",
   "execution_count": null,
   "metadata": {
    "collapsed": true
   },
   "outputs": [],
   "source": [
    "df_hmda1.info()"
   ]
  },
  {
   "cell_type": "code",
   "execution_count": null,
   "metadata": {
    "collapsed": true
   },
   "outputs": [],
   "source": [
    "# Descriptive statistics of numeric variables\n",
    "\n",
    "# count NaN values of each variables\n",
    "sr = 100*df_hmda1.isnull().sum()/1312989 #total number of entries 1312989\n",
    "sr.sort_values(ascending=False)\n",
    "\n",
    "# 8.96% of missing values of applicant_income"
   ]
  },
  {
   "cell_type": "code",
   "execution_count": null,
   "metadata": {
    "collapsed": true
   },
   "outputs": [],
   "source": [
    "# descriptive statistics of numeric variables\n",
    "df_hmda1.describe(percentiles=[0.01,0.1,0.25,0.5,0.75,0.9,0.99],include=[np.number]).transpose()\n",
    "\n",
    "# unreasonable min value of  As_of_Year, Applicant_Income_000, Loan_Amount_000, Conforming_Limit_000\n",
    "# will check these these variables"
   ]
  },
  {
   "cell_type": "code",
   "execution_count": null,
   "metadata": {
    "collapsed": true
   },
   "outputs": [],
   "source": [
    "################################ \n",
    "# check the value of as_of_year\n",
    "################################\n",
    "\n",
    "df_hmda1['As_of_Year'].value_counts(normalize=True,sort=True, ascending=False, bins=None, dropna=True)"
   ]
  },
  {
   "cell_type": "code",
   "execution_count": null,
   "metadata": {
    "collapsed": true
   },
   "outputs": [],
   "source": [
    "# check the the row with year=11\n",
    "\n",
    "df_hmda1[df_hmda1['As_of_Year']==11]"
   ]
  },
  {
   "cell_type": "code",
   "execution_count": null,
   "metadata": {
    "collapsed": true
   },
   "outputs": [],
   "source": [
    "# delete the rwo of as of year = 10\n",
    "df_hmda1.drop(df_hmda1[df_hmda1['As_of_Year']==11].index, inplace=True, axis=0)"
   ]
  },
  {
   "cell_type": "code",
   "execution_count": null,
   "metadata": {
    "collapsed": true
   },
   "outputs": [],
   "source": [
    "df_hmda1['As_of_Year'].value_counts(normalize=True,sort=True, ascending=False, bins=None, dropna=True)"
   ]
  },
  {
   "cell_type": "code",
   "execution_count": null,
   "metadata": {
    "collapsed": true
   },
   "outputs": [],
   "source": []
  }
 ],
 "metadata": {
  "anaconda-cloud": {},
  "kernelspec": {
   "display_name": "Python [conda root]",
   "language": "python",
   "name": "conda-root-py"
  },
  "language_info": {
   "codemirror_mode": {
    "name": "ipython",
    "version": 2
   },
   "file_extension": ".py",
   "mimetype": "text/x-python",
   "name": "python",
   "nbconvert_exporter": "python",
   "pygments_lexer": "ipython2",
   "version": "2.7.12"
  }
 },
 "nbformat": 4,
 "nbformat_minor": 2
}
